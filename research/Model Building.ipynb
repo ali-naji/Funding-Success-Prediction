{
 "cells": [
  {
   "cell_type": "code",
   "execution_count": 31,
   "metadata": {},
   "outputs": [],
   "source": [
    "import numpy as np\n",
    "import pandas as pd\n",
    "\n",
    "# models\n",
    "from sklearn.svm import LinearSVC\n",
    "from sklearn.naive_bayes import MultinomialNB\n",
    "from sklearn.linear_model import LogisticRegression\n",
    "\n",
    "# evaluation metrics \n",
    "from sklearn.metrics import accuracy_score, roc_auc_score\n",
    "\n",
    "import warnings\n",
    "warnings.filterwarnings(\"ignore\")"
   ]
  },
  {
   "cell_type": "code",
   "execution_count": 32,
   "metadata": {},
   "outputs": [
    {
     "data": {
      "text/plain": [
       "['disable_communication',\n",
       " 'backers_count',\n",
       " 'AU',\n",
       " 'GB',\n",
       " 'US',\n",
       " 'GBP',\n",
       " 'USD',\n",
       " '2013',\n",
       " '2014',\n",
       " '3d',\n",
       " 'action',\n",
       " 'album',\n",
       " 'android',\n",
       " 'animated',\n",
       " 'anthology',\n",
       " 'app',\n",
       " 'art',\n",
       " 'band',\n",
       " 'based',\n",
       " 'burning man',\n",
       " 'business',\n",
       " 'card game',\n",
       " 'cd',\n",
       " 'clothing',\n",
       " 'comedy',\n",
       " 'create',\n",
       " 'debut',\n",
       " 'debut album',\n",
       " 'detroit',\n",
       " 'documentary',\n",
       " 'dream',\n",
       " 'edition',\n",
       " 'energy',\n",
       " 'ep',\n",
       " 'explores',\n",
       " 'fantasy',\n",
       " 'fashion',\n",
       " 'feature',\n",
       " 'feature film',\n",
       " 'festival',\n",
       " 'film',\n",
       " 'final',\n",
       " 'first',\n",
       " 'first full',\n",
       " 'folk',\n",
       " 'food',\n",
       " 'food truck',\n",
       " 'free',\n",
       " 'full length',\n",
       " 'game',\n",
       " 'get',\n",
       " 'girl',\n",
       " 'help',\n",
       " 'help us',\n",
       " 'hip',\n",
       " 'hip hop',\n",
       " 'independent',\n",
       " 'installation',\n",
       " 'last',\n",
       " 'length album',\n",
       " 'life',\n",
       " 'like',\n",
       " 'little',\n",
       " 'local',\n",
       " 'looking',\n",
       " 'man',\n",
       " 'many',\n",
       " 'mobile',\n",
       " 'need help',\n",
       " 'new',\n",
       " 'new album',\n",
       " 'night',\n",
       " 'online',\n",
       " 'painting',\n",
       " 'paintings',\n",
       " 'people',\n",
       " 'piece',\n",
       " 'platform',\n",
       " 'playing cards',\n",
       " 'pre order',\n",
       " 'presents',\n",
       " 'press',\n",
       " 'print',\n",
       " 'prints',\n",
       " 'produce',\n",
       " 'real',\n",
       " 'reality',\n",
       " 'record',\n",
       " 'recording',\n",
       " 'release',\n",
       " 'residency',\n",
       " 'save',\n",
       " 'school',\n",
       " 'series',\n",
       " 'short',\n",
       " 'short film',\n",
       " 'social',\n",
       " 'solo',\n",
       " 'songs',\n",
       " 'start',\n",
       " 'three',\n",
       " 'tour',\n",
       " 'trying',\n",
       " 'tv',\n",
       " 'two',\n",
       " 'vinyl',\n",
       " 'volume',\n",
       " 'want',\n",
       " 'web',\n",
       " 'website',\n",
       " 'world',\n",
       " 'would like',\n",
       " 'year',\n",
       " 'young']"
      ]
     },
     "execution_count": 32,
     "metadata": {},
     "output_type": "execute_result"
    }
   ],
   "source": [
    "X_train = pd.read_csv('Xtrain.csv')\n",
    "X_val = pd.read_csv('Xval.csv')\n",
    "X_test = pd.read_csv('Xtest.csv')\n",
    "\n",
    "y_train = X_train.pop('final_status')\n",
    "y_val = X_val.pop('final_status')\n",
    "y_test = X_test.pop('final_status')\n",
    "\n",
    "features = pd.read_csv('selected_features.csv', header=None)\n",
    "features = features.iloc[:, 0].to_list()\n",
    "features"
   ]
  },
  {
   "cell_type": "markdown",
   "metadata": {},
   "source": [
    "#### Subsetting to features selected"
   ]
  },
  {
   "cell_type": "code",
   "execution_count": 33,
   "metadata": {},
   "outputs": [],
   "source": [
    "X_train = X_train[features]\n",
    "X_val = X_val[features]\n",
    "X_test = X_test[features]"
   ]
  },
  {
   "cell_type": "code",
   "execution_count": 34,
   "metadata": {},
   "outputs": [
    {
     "data": {
      "text/plain": [
       "(70374, 114)"
      ]
     },
     "execution_count": 34,
     "metadata": {},
     "output_type": "execute_result"
    }
   ],
   "source": [
    "X_train.shape"
   ]
  },
  {
   "cell_type": "code",
   "execution_count": 35,
   "metadata": {},
   "outputs": [],
   "source": [
    "def evaluate_models(models, X_train, X_val, y_train, y_val):\n",
    "    names = [i.__name__ for i in models]\n",
    "    models_ev = pd.DataFrame(np.zeros((len(models), 4)), index=names, \n",
    "                             columns=['train_accuracy', 'train_roc_auc', 'val_accuracy', 'val_roc_auc'])\n",
    "    \n",
    "    for model in models:\n",
    "        model = model()\n",
    "        model.fit(X_train, y_train)\n",
    "        train_preds = model.predict(X_train)\n",
    "        val_preds = model.predict(X_val)\n",
    "        \n",
    "        models_ev.loc[model.__class__.__name__, 'train_accuracy'] = accuracy_score(y_train, train_preds)\n",
    "        models_ev.loc[model.__class__.__name__, 'train_roc_auc'] = roc_auc_score(y_train, train_preds)\n",
    "        \n",
    "        models_ev.loc[model.__class__.__name__, 'val_accuracy'] = accuracy_score(y_val, val_preds)\n",
    "        models_ev.loc[model.__class__.__name__, 'val_roc_auc'] = roc_auc_score(y_val, val_preds)\n",
    "        \n",
    "    return models_ev"
   ]
  },
  {
   "cell_type": "code",
   "execution_count": 36,
   "metadata": {},
   "outputs": [
    {
     "data": {
      "text/html": [
       "<div>\n",
       "<style scoped>\n",
       "    .dataframe tbody tr th:only-of-type {\n",
       "        vertical-align: middle;\n",
       "    }\n",
       "\n",
       "    .dataframe tbody tr th {\n",
       "        vertical-align: top;\n",
       "    }\n",
       "\n",
       "    .dataframe thead th {\n",
       "        text-align: right;\n",
       "    }\n",
       "</style>\n",
       "<table border=\"1\" class=\"dataframe\">\n",
       "  <thead>\n",
       "    <tr style=\"text-align: right;\">\n",
       "      <th></th>\n",
       "      <th>train_accuracy</th>\n",
       "      <th>train_roc_auc</th>\n",
       "      <th>val_accuracy</th>\n",
       "      <th>val_roc_auc</th>\n",
       "    </tr>\n",
       "  </thead>\n",
       "  <tbody>\n",
       "    <tr>\n",
       "      <th>LogisticRegression</th>\n",
       "      <td>0.775855</td>\n",
       "      <td>0.678860</td>\n",
       "      <td>0.776660</td>\n",
       "      <td>0.677217</td>\n",
       "    </tr>\n",
       "    <tr>\n",
       "      <th>LinearSVC</th>\n",
       "      <td>0.769560</td>\n",
       "      <td>0.663585</td>\n",
       "      <td>0.771556</td>\n",
       "      <td>0.663700</td>\n",
       "    </tr>\n",
       "    <tr>\n",
       "      <th>MultinomialNB</th>\n",
       "      <td>0.713204</td>\n",
       "      <td>0.546640</td>\n",
       "      <td>0.717939</td>\n",
       "      <td>0.548591</td>\n",
       "    </tr>\n",
       "  </tbody>\n",
       "</table>\n",
       "</div>"
      ],
      "text/plain": [
       "                    train_accuracy  train_roc_auc  val_accuracy  val_roc_auc\n",
       "LogisticRegression        0.775855       0.678860      0.776660     0.677217\n",
       "LinearSVC                 0.769560       0.663585      0.771556     0.663700\n",
       "MultinomialNB             0.713204       0.546640      0.717939     0.548591"
      ]
     },
     "execution_count": 36,
     "metadata": {},
     "output_type": "execute_result"
    }
   ],
   "source": [
    "models= [MultinomialNB, LinearSVC, LogisticRegression]\n",
    "eval_mat = evaluate_models(models, X_train, X_val, y_train, y_val)\n",
    "eval_mat.sort_values(by='val_roc_auc', ascending=False)"
   ]
  },
  {
   "cell_type": "markdown",
   "metadata": {},
   "source": [
    "It seems like LinearSVC model has performed better with validation ROC-AUC score of about 78%. We will fine-tune this model to realize its utmost performance"
   ]
  },
  {
   "cell_type": "code",
   "execution_count": 37,
   "metadata": {},
   "outputs": [
    {
     "data": {
      "text/plain": [
       "{'C': 1, 'loss': 'hinge', 'penalty': 'l2'}"
      ]
     },
     "execution_count": 37,
     "metadata": {},
     "output_type": "execute_result"
    }
   ],
   "source": [
    "param_grid = {'penalty':['l1', 'l2'],\n",
    "              'loss':['hinge', 'squared_hinge'],\n",
    "              'C':[1, 0.1, 0.01, 0.001, 0.0001],\n",
    "             }\n",
    "lsvc = LinearSVC(random_state=200)\n",
    "\n",
    "from sklearn.model_selection import GridSearchCV\n",
    "\n",
    "model_cv = GridSearchCV(lsvc, param_grid, cv=3, n_jobs=-1)\n",
    "model_cv.fit(X_train, y_train)\n",
    "model_cv.best_params_"
   ]
  },
  {
   "cell_type": "code",
   "execution_count": 38,
   "metadata": {},
   "outputs": [
    {
     "name": "stdout",
     "output_type": "stream",
     "text": [
      "Test Accuracy Score = 0.7783251231527094\n",
      "Test ROC-AUC Score = 0.6771481977457874\n"
     ]
    }
   ],
   "source": [
    "lsvc = LinearSVC(random_state=200, C=1, loss='hinge', penalty='l2')\n",
    "lsvc.fit(X_train, y_train)\n",
    "\n",
    "preds_test = lsvc.predict(X_test)\n",
    "\n",
    "print(\"Test Accuracy Score = \"+str(accuracy_score(y_test, preds_test)))\n",
    "print(\"Test ROC-AUC Score = \"+str(roc_auc_score(y_test, preds_test)))"
   ]
  },
  {
   "cell_type": "markdown",
   "metadata": {},
   "source": [
    "This is not too far off the training and validation scores and this model will be selected for deployment for our application"
   ]
  }
 ],
 "metadata": {
  "kernelspec": {
   "display_name": "Python 3",
   "language": "python",
   "name": "python3"
  },
  "language_info": {
   "codemirror_mode": {
    "name": "ipython",
    "version": 3
   },
   "file_extension": ".py",
   "mimetype": "text/x-python",
   "name": "python",
   "nbconvert_exporter": "python",
   "pygments_lexer": "ipython3",
   "version": "3.7.7"
  }
 },
 "nbformat": 4,
 "nbformat_minor": 4
}
