{
 "cells": [
  {
   "cell_type": "markdown",
   "metadata": {},
   "source": [
    "## Feature Selection\n",
    "Having engineered our features, we will be selecting the best features in the sets to avoid the curse of dimensionality and eventually overfitting the sets by the ML model"
   ]
  },
  {
   "cell_type": "code",
   "execution_count": 34,
   "metadata": {},
   "outputs": [],
   "source": [
    "import pandas as pd\n",
    "import numpy as np\n",
    "from sklearn.feature_selection import SelectFromModel\n",
    "from sklearn.linear_model import Lasso\n",
    "\n",
    "import warnings\n",
    "warnings.filterwarnings(\"ignore\")"
   ]
  },
  {
   "cell_type": "code",
   "execution_count": 35,
   "metadata": {
    "scrolled": true
   },
   "outputs": [
    {
     "data": {
      "text/plain": [
       "(70374, 1012)"
      ]
     },
     "execution_count": 35,
     "metadata": {},
     "output_type": "execute_result"
    }
   ],
   "source": [
    "X_train = pd.read_csv('Xtrain.csv', index_col=0)\n",
    "X_val = pd.read_csv('Xval.csv', index_col=0)\n",
    "X_test = pd.read_csv('Xtest.csv', index_col=0)\n",
    "\n",
    "X_train.shape"
   ]
  },
  {
   "cell_type": "code",
   "execution_count": 36,
   "metadata": {},
   "outputs": [
    {
     "data": {
      "text/html": [
       "<div>\n",
       "<style scoped>\n",
       "    .dataframe tbody tr th:only-of-type {\n",
       "        vertical-align: middle;\n",
       "    }\n",
       "\n",
       "    .dataframe tbody tr th {\n",
       "        vertical-align: top;\n",
       "    }\n",
       "\n",
       "    .dataframe thead th {\n",
       "        text-align: right;\n",
       "    }\n",
       "</style>\n",
       "<table border=\"1\" class=\"dataframe\">\n",
       "  <thead>\n",
       "    <tr style=\"text-align: right;\">\n",
       "      <th></th>\n",
       "      <th>goal</th>\n",
       "      <th>disable_communication</th>\n",
       "      <th>backers_count</th>\n",
       "      <th>final_status</th>\n",
       "      <th>AU</th>\n",
       "      <th>CA</th>\n",
       "      <th>GB</th>\n",
       "      <th>US</th>\n",
       "      <th>AUD</th>\n",
       "      <th>CAD</th>\n",
       "      <th>...</th>\n",
       "      <th>year</th>\n",
       "      <th>year old</th>\n",
       "      <th>years</th>\n",
       "      <th>yet</th>\n",
       "      <th>york</th>\n",
       "      <th>young</th>\n",
       "      <th>youth</th>\n",
       "      <th>youtube</th>\n",
       "      <th>zombie</th>\n",
       "      <th>zombies</th>\n",
       "    </tr>\n",
       "  </thead>\n",
       "  <tbody>\n",
       "    <tr>\n",
       "      <th>0</th>\n",
       "      <td>0.0</td>\n",
       "      <td>0.0</td>\n",
       "      <td>0.002695</td>\n",
       "      <td>0</td>\n",
       "      <td>0.0</td>\n",
       "      <td>1.0</td>\n",
       "      <td>0.0</td>\n",
       "      <td>0.0</td>\n",
       "      <td>0.0</td>\n",
       "      <td>1.0</td>\n",
       "      <td>...</td>\n",
       "      <td>0.0</td>\n",
       "      <td>0.0</td>\n",
       "      <td>0.0</td>\n",
       "      <td>0.0</td>\n",
       "      <td>0.0</td>\n",
       "      <td>0.0</td>\n",
       "      <td>0.0</td>\n",
       "      <td>0.0</td>\n",
       "      <td>0.0</td>\n",
       "      <td>0.0</td>\n",
       "    </tr>\n",
       "    <tr>\n",
       "      <th>1</th>\n",
       "      <td>0.0</td>\n",
       "      <td>0.0</td>\n",
       "      <td>0.009434</td>\n",
       "      <td>0</td>\n",
       "      <td>0.0</td>\n",
       "      <td>0.0</td>\n",
       "      <td>1.0</td>\n",
       "      <td>0.0</td>\n",
       "      <td>0.0</td>\n",
       "      <td>0.0</td>\n",
       "      <td>...</td>\n",
       "      <td>0.0</td>\n",
       "      <td>0.0</td>\n",
       "      <td>0.0</td>\n",
       "      <td>0.0</td>\n",
       "      <td>0.0</td>\n",
       "      <td>0.0</td>\n",
       "      <td>0.0</td>\n",
       "      <td>0.0</td>\n",
       "      <td>0.0</td>\n",
       "      <td>0.0</td>\n",
       "    </tr>\n",
       "    <tr>\n",
       "      <th>2</th>\n",
       "      <td>0.0</td>\n",
       "      <td>0.0</td>\n",
       "      <td>0.022911</td>\n",
       "      <td>0</td>\n",
       "      <td>0.0</td>\n",
       "      <td>0.0</td>\n",
       "      <td>0.0</td>\n",
       "      <td>1.0</td>\n",
       "      <td>0.0</td>\n",
       "      <td>0.0</td>\n",
       "      <td>...</td>\n",
       "      <td>0.0</td>\n",
       "      <td>0.0</td>\n",
       "      <td>0.0</td>\n",
       "      <td>0.0</td>\n",
       "      <td>0.0</td>\n",
       "      <td>0.0</td>\n",
       "      <td>0.0</td>\n",
       "      <td>0.0</td>\n",
       "      <td>0.0</td>\n",
       "      <td>0.0</td>\n",
       "    </tr>\n",
       "    <tr>\n",
       "      <th>3</th>\n",
       "      <td>0.0</td>\n",
       "      <td>0.0</td>\n",
       "      <td>0.152291</td>\n",
       "      <td>1</td>\n",
       "      <td>0.0</td>\n",
       "      <td>0.0</td>\n",
       "      <td>0.0</td>\n",
       "      <td>1.0</td>\n",
       "      <td>0.0</td>\n",
       "      <td>0.0</td>\n",
       "      <td>...</td>\n",
       "      <td>0.0</td>\n",
       "      <td>0.0</td>\n",
       "      <td>0.0</td>\n",
       "      <td>0.0</td>\n",
       "      <td>0.0</td>\n",
       "      <td>0.0</td>\n",
       "      <td>0.0</td>\n",
       "      <td>0.0</td>\n",
       "      <td>0.0</td>\n",
       "      <td>0.0</td>\n",
       "    </tr>\n",
       "    <tr>\n",
       "      <th>4</th>\n",
       "      <td>0.0</td>\n",
       "      <td>0.0</td>\n",
       "      <td>0.000000</td>\n",
       "      <td>0</td>\n",
       "      <td>0.0</td>\n",
       "      <td>0.0</td>\n",
       "      <td>0.0</td>\n",
       "      <td>1.0</td>\n",
       "      <td>0.0</td>\n",
       "      <td>0.0</td>\n",
       "      <td>...</td>\n",
       "      <td>0.0</td>\n",
       "      <td>0.0</td>\n",
       "      <td>0.0</td>\n",
       "      <td>0.0</td>\n",
       "      <td>0.0</td>\n",
       "      <td>0.0</td>\n",
       "      <td>0.0</td>\n",
       "      <td>0.0</td>\n",
       "      <td>0.0</td>\n",
       "      <td>0.0</td>\n",
       "    </tr>\n",
       "  </tbody>\n",
       "</table>\n",
       "<p>5 rows × 1012 columns</p>\n",
       "</div>"
      ],
      "text/plain": [
       "   goal  disable_communication  backers_count  final_status   AU   CA   GB  \\\n",
       "0   0.0                    0.0       0.002695             0  0.0  1.0  0.0   \n",
       "1   0.0                    0.0       0.009434             0  0.0  0.0  1.0   \n",
       "2   0.0                    0.0       0.022911             0  0.0  0.0  0.0   \n",
       "3   0.0                    0.0       0.152291             1  0.0  0.0  0.0   \n",
       "4   0.0                    0.0       0.000000             0  0.0  0.0  0.0   \n",
       "\n",
       "    US  AUD  CAD  ...  year  year old  years  yet  york  young  youth  \\\n",
       "0  0.0  0.0  1.0  ...   0.0       0.0    0.0  0.0   0.0    0.0    0.0   \n",
       "1  0.0  0.0  0.0  ...   0.0       0.0    0.0  0.0   0.0    0.0    0.0   \n",
       "2  1.0  0.0  0.0  ...   0.0       0.0    0.0  0.0   0.0    0.0    0.0   \n",
       "3  1.0  0.0  0.0  ...   0.0       0.0    0.0  0.0   0.0    0.0    0.0   \n",
       "4  1.0  0.0  0.0  ...   0.0       0.0    0.0  0.0   0.0    0.0    0.0   \n",
       "\n",
       "   youtube  zombie  zombies  \n",
       "0      0.0     0.0      0.0  \n",
       "1      0.0     0.0      0.0  \n",
       "2      0.0     0.0      0.0  \n",
       "3      0.0     0.0      0.0  \n",
       "4      0.0     0.0      0.0  \n",
       "\n",
       "[5 rows x 1012 columns]"
      ]
     },
     "execution_count": 36,
     "metadata": {},
     "output_type": "execute_result"
    }
   ],
   "source": [
    "X_train.head()"
   ]
  },
  {
   "cell_type": "code",
   "execution_count": 37,
   "metadata": {},
   "outputs": [],
   "source": [
    "y_train = X_train.pop('final_status')\n",
    "y_val = X_val.pop('final_status')\n",
    "y_test = X_test.pop('final_status')"
   ]
  },
  {
   "cell_type": "code",
   "execution_count": 38,
   "metadata": {},
   "outputs": [
    {
     "data": {
      "text/plain": [
       "SelectFromModel(estimator=Lasso(alpha=0.0002, copy_X=True, fit_intercept=True,\n",
       "                                max_iter=1000, normalize=False, positive=False,\n",
       "                                precompute=False, random_state=200,\n",
       "                                selection='cyclic', tol=0.0001,\n",
       "                                warm_start=False),\n",
       "                max_features=None, norm_order=1, prefit=False, threshold=None)"
      ]
     },
     "execution_count": 38,
     "metadata": {},
     "output_type": "execute_result"
    }
   ],
   "source": [
    "selector = SelectFromModel(Lasso(alpha=0.0002, random_state=200))\n",
    "selector.fit(X_train, y_train)"
   ]
  },
  {
   "cell_type": "code",
   "execution_count": 39,
   "metadata": {},
   "outputs": [
    {
     "data": {
      "text/plain": [
       "['disable_communication',\n",
       " 'backers_count',\n",
       " 'AU',\n",
       " 'GB',\n",
       " 'US',\n",
       " 'GBP',\n",
       " 'USD',\n",
       " '2013',\n",
       " '2014',\n",
       " '3d',\n",
       " 'action',\n",
       " 'album',\n",
       " 'android',\n",
       " 'animated',\n",
       " 'anthology',\n",
       " 'app',\n",
       " 'art',\n",
       " 'band',\n",
       " 'based',\n",
       " 'burning man',\n",
       " 'business',\n",
       " 'card game',\n",
       " 'cd',\n",
       " 'clothing',\n",
       " 'comedy',\n",
       " 'create',\n",
       " 'debut',\n",
       " 'debut album',\n",
       " 'detroit',\n",
       " 'documentary',\n",
       " 'dream',\n",
       " 'edition',\n",
       " 'energy',\n",
       " 'ep',\n",
       " 'explores',\n",
       " 'fantasy',\n",
       " 'fashion',\n",
       " 'feature',\n",
       " 'feature film',\n",
       " 'festival',\n",
       " 'film',\n",
       " 'final',\n",
       " 'first',\n",
       " 'first full',\n",
       " 'folk',\n",
       " 'food',\n",
       " 'food truck',\n",
       " 'free',\n",
       " 'full length',\n",
       " 'game',\n",
       " 'get',\n",
       " 'girl',\n",
       " 'help',\n",
       " 'help us',\n",
       " 'hip',\n",
       " 'hip hop',\n",
       " 'independent',\n",
       " 'installation',\n",
       " 'last',\n",
       " 'length album',\n",
       " 'life',\n",
       " 'like',\n",
       " 'little',\n",
       " 'local',\n",
       " 'looking',\n",
       " 'man',\n",
       " 'many',\n",
       " 'mobile',\n",
       " 'need help',\n",
       " 'new',\n",
       " 'new album',\n",
       " 'night',\n",
       " 'online',\n",
       " 'painting',\n",
       " 'paintings',\n",
       " 'people',\n",
       " 'piece',\n",
       " 'platform',\n",
       " 'playing cards',\n",
       " 'pre order',\n",
       " 'presents',\n",
       " 'press',\n",
       " 'print',\n",
       " 'prints',\n",
       " 'produce',\n",
       " 'real',\n",
       " 'reality',\n",
       " 'record',\n",
       " 'recording',\n",
       " 'release',\n",
       " 'residency',\n",
       " 'save',\n",
       " 'school',\n",
       " 'series',\n",
       " 'short',\n",
       " 'short film',\n",
       " 'social',\n",
       " 'solo',\n",
       " 'songs',\n",
       " 'start',\n",
       " 'three',\n",
       " 'tour',\n",
       " 'trying',\n",
       " 'tv',\n",
       " 'two',\n",
       " 'vinyl',\n",
       " 'volume',\n",
       " 'want',\n",
       " 'web',\n",
       " 'website',\n",
       " 'world',\n",
       " 'would like',\n",
       " 'year',\n",
       " 'young']"
      ]
     },
     "execution_count": 39,
     "metadata": {},
     "output_type": "execute_result"
    }
   ],
   "source": [
    "selected_feats = X_train.columns[selector.get_support()]\n",
    "list(selected_feats)"
   ]
  },
  {
   "cell_type": "code",
   "execution_count": 40,
   "metadata": {},
   "outputs": [
    {
     "data": {
      "text/plain": [
       "114"
      ]
     },
     "execution_count": 40,
     "metadata": {},
     "output_type": "execute_result"
    }
   ],
   "source": [
    "len(selected_feats)"
   ]
  },
  {
   "cell_type": "markdown",
   "metadata": {},
   "source": [
    "Only 114 features were selected out of 1012 columns by Lasso Regression"
   ]
  },
  {
   "cell_type": "code",
   "execution_count": 41,
   "metadata": {},
   "outputs": [],
   "source": [
    "# saving selected features\n",
    "pd.Series(selected_feats).to_csv('selected_features.csv', index=False)"
   ]
  },
  {
   "cell_type": "markdown",
   "metadata": {},
   "source": [
    "After selecting the best features and persisting them, we will start building models in the ML building notebook"
   ]
  }
 ],
 "metadata": {
  "kernelspec": {
   "display_name": "Python 3",
   "language": "python",
   "name": "python3"
  },
  "language_info": {
   "codemirror_mode": {
    "name": "ipython",
    "version": 3
   },
   "file_extension": ".py",
   "mimetype": "text/x-python",
   "name": "python",
   "nbconvert_exporter": "python",
   "pygments_lexer": "ipython3",
   "version": "3.7.7"
  }
 },
 "nbformat": 4,
 "nbformat_minor": 4
}
