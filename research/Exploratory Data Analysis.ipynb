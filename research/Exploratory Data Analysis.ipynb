{
 "cells": [
  {
   "cell_type": "markdown",
   "metadata": {},
   "source": [
    "## Successfully Funded Projects\n",
    "This project aims to understand and predict successfully funded kickstarter projects using ML algorithms. The dataset that will be used can be found [here](https://www.kaggle.com/codename007/funding-successful-projects). The project will contain several research jupyter notebooks to confirm viability of this dataset in making predictions and potentially followed by a end-to-end web app. This notebook of the research series will be concerned with exploratory data analysis to understand the data better"
   ]
  },
  {
   "cell_type": "code",
   "execution_count": 2,
   "metadata": {},
   "outputs": [
    {
     "name": "stderr",
     "output_type": "stream",
     "text": [
      "C:\\Users\\ali95\\Anaconda3\\envs\\python3.7\\lib\\site-packages\\numpy\\_distributor_init.py:32: UserWarning: loaded more than 1 DLL from .libs:\n",
      "C:\\Users\\ali95\\Anaconda3\\envs\\python3.7\\lib\\site-packages\\numpy\\.libs\\libopenblas.PYQHXLVVQ7VESDPUVUADXEVJOBGHJPAY.gfortran-win_amd64.dll\n",
      "C:\\Users\\ali95\\Anaconda3\\envs\\python3.7\\lib\\site-packages\\numpy\\.libs\\libopenblas.TXA6YQSD3GCQQC22GEQ54J2UDCXDXHWN.gfortran-win_amd64.dll\n",
      "  stacklevel=1)\n"
     ]
    }
   ],
   "source": [
    "import numpy as np\n",
    "import pandas as pd\n",
    "import matplotlib.pyplot as plt\n",
    "\n",
    "import warnings\n",
    "warnings.filterwarnings(\"ignore\")"
   ]
  },
  {
   "cell_type": "code",
   "execution_count": 3,
   "metadata": {},
   "outputs": [
    {
     "data": {
      "text/html": [
       "<div>\n",
       "<style scoped>\n",
       "    .dataframe tbody tr th:only-of-type {\n",
       "        vertical-align: middle;\n",
       "    }\n",
       "\n",
       "    .dataframe tbody tr th {\n",
       "        vertical-align: top;\n",
       "    }\n",
       "\n",
       "    .dataframe thead th {\n",
       "        text-align: right;\n",
       "    }\n",
       "</style>\n",
       "<table border=\"1\" class=\"dataframe\">\n",
       "  <thead>\n",
       "    <tr style=\"text-align: right;\">\n",
       "      <th></th>\n",
       "      <th>project_id</th>\n",
       "      <th>name</th>\n",
       "      <th>desc</th>\n",
       "      <th>goal</th>\n",
       "      <th>keywords</th>\n",
       "      <th>disable_communication</th>\n",
       "      <th>country</th>\n",
       "      <th>currency</th>\n",
       "      <th>deadline</th>\n",
       "      <th>state_changed_at</th>\n",
       "      <th>created_at</th>\n",
       "      <th>launched_at</th>\n",
       "      <th>backers_count</th>\n",
       "      <th>final_status</th>\n",
       "    </tr>\n",
       "  </thead>\n",
       "  <tbody>\n",
       "    <tr>\n",
       "      <th>0</th>\n",
       "      <td>kkst1451568084</td>\n",
       "      <td>drawing for dollars</td>\n",
       "      <td>I like drawing pictures. and then i color them...</td>\n",
       "      <td>20.0</td>\n",
       "      <td>drawing-for-dollars</td>\n",
       "      <td>False</td>\n",
       "      <td>US</td>\n",
       "      <td>USD</td>\n",
       "      <td>1241333999</td>\n",
       "      <td>1241334017</td>\n",
       "      <td>1240600507</td>\n",
       "      <td>1240602723</td>\n",
       "      <td>3</td>\n",
       "      <td>1</td>\n",
       "    </tr>\n",
       "    <tr>\n",
       "      <th>1</th>\n",
       "      <td>kkst1474482071</td>\n",
       "      <td>Sponsor Dereck Blackburn (Lostwars) Artist in ...</td>\n",
       "      <td>I, Dereck Blackburn will be taking upon an inc...</td>\n",
       "      <td>300.0</td>\n",
       "      <td>sponsor-dereck-blackburn-lostwars-artist-in-re...</td>\n",
       "      <td>False</td>\n",
       "      <td>US</td>\n",
       "      <td>USD</td>\n",
       "      <td>1242429000</td>\n",
       "      <td>1242432018</td>\n",
       "      <td>1240960224</td>\n",
       "      <td>1240975592</td>\n",
       "      <td>2</td>\n",
       "      <td>0</td>\n",
       "    </tr>\n",
       "    <tr>\n",
       "      <th>2</th>\n",
       "      <td>kkst183622197</td>\n",
       "      <td>Mr. Squiggles</td>\n",
       "      <td>So I saw darkpony's successfully funded drawin...</td>\n",
       "      <td>30.0</td>\n",
       "      <td>mr-squiggles</td>\n",
       "      <td>False</td>\n",
       "      <td>US</td>\n",
       "      <td>USD</td>\n",
       "      <td>1243027560</td>\n",
       "      <td>1243027818</td>\n",
       "      <td>1242163613</td>\n",
       "      <td>1242164398</td>\n",
       "      <td>0</td>\n",
       "      <td>0</td>\n",
       "    </tr>\n",
       "    <tr>\n",
       "      <th>3</th>\n",
       "      <td>kkst597742710</td>\n",
       "      <td>Help me write my second novel.</td>\n",
       "      <td>Do your part to help out starving artists and ...</td>\n",
       "      <td>500.0</td>\n",
       "      <td>help-me-write-my-second-novel</td>\n",
       "      <td>False</td>\n",
       "      <td>US</td>\n",
       "      <td>USD</td>\n",
       "      <td>1243555740</td>\n",
       "      <td>1243556121</td>\n",
       "      <td>1240963795</td>\n",
       "      <td>1240966730</td>\n",
       "      <td>18</td>\n",
       "      <td>1</td>\n",
       "    </tr>\n",
       "    <tr>\n",
       "      <th>4</th>\n",
       "      <td>kkst1913131122</td>\n",
       "      <td>Support casting my sculpture in bronze</td>\n",
       "      <td>I'm nearing completion on a sculpture, current...</td>\n",
       "      <td>2000.0</td>\n",
       "      <td>support-casting-my-sculpture-in-bronze</td>\n",
       "      <td>False</td>\n",
       "      <td>US</td>\n",
       "      <td>USD</td>\n",
       "      <td>1243769880</td>\n",
       "      <td>1243770317</td>\n",
       "      <td>1241177914</td>\n",
       "      <td>1241180541</td>\n",
       "      <td>1</td>\n",
       "      <td>0</td>\n",
       "    </tr>\n",
       "  </tbody>\n",
       "</table>\n",
       "</div>"
      ],
      "text/plain": [
       "       project_id                                               name  \\\n",
       "0  kkst1451568084                                drawing for dollars   \n",
       "1  kkst1474482071  Sponsor Dereck Blackburn (Lostwars) Artist in ...   \n",
       "2   kkst183622197                                      Mr. Squiggles   \n",
       "3   kkst597742710                     Help me write my second novel.   \n",
       "4  kkst1913131122             Support casting my sculpture in bronze   \n",
       "\n",
       "                                                desc    goal  \\\n",
       "0  I like drawing pictures. and then i color them...    20.0   \n",
       "1  I, Dereck Blackburn will be taking upon an inc...   300.0   \n",
       "2  So I saw darkpony's successfully funded drawin...    30.0   \n",
       "3  Do your part to help out starving artists and ...   500.0   \n",
       "4  I'm nearing completion on a sculpture, current...  2000.0   \n",
       "\n",
       "                                            keywords  disable_communication  \\\n",
       "0                                drawing-for-dollars                  False   \n",
       "1  sponsor-dereck-blackburn-lostwars-artist-in-re...                  False   \n",
       "2                                       mr-squiggles                  False   \n",
       "3                      help-me-write-my-second-novel                  False   \n",
       "4             support-casting-my-sculpture-in-bronze                  False   \n",
       "\n",
       "  country currency    deadline  state_changed_at  created_at  launched_at  \\\n",
       "0      US      USD  1241333999        1241334017  1240600507   1240602723   \n",
       "1      US      USD  1242429000        1242432018  1240960224   1240975592   \n",
       "2      US      USD  1243027560        1243027818  1242163613   1242164398   \n",
       "3      US      USD  1243555740        1243556121  1240963795   1240966730   \n",
       "4      US      USD  1243769880        1243770317  1241177914   1241180541   \n",
       "\n",
       "   backers_count  final_status  \n",
       "0              3             1  \n",
       "1              2             0  \n",
       "2              0             0  \n",
       "3             18             1  \n",
       "4              1             0  "
      ]
     },
     "execution_count": 3,
     "metadata": {},
     "output_type": "execute_result"
    }
   ],
   "source": [
    "df = pd.read_csv('train.csv')\n",
    "df.head()"
   ]
  },
  {
   "cell_type": "markdown",
   "metadata": {},
   "source": [
    "The target variable is 'final_status' which is binary with 1 indicating successfully funded and 0 for not funded"
   ]
  },
  {
   "cell_type": "code",
   "execution_count": 4,
   "metadata": {},
   "outputs": [
    {
     "data": {
      "text/plain": [
       "(108129, 14)"
      ]
     },
     "execution_count": 4,
     "metadata": {},
     "output_type": "execute_result"
    }
   ],
   "source": [
    "df.shape"
   ]
  },
  {
   "cell_type": "code",
   "execution_count": 5,
   "metadata": {},
   "outputs": [
    {
     "name": "stdout",
     "output_type": "stream",
     "text": [
      "<class 'pandas.core.frame.DataFrame'>\n",
      "RangeIndex: 108129 entries, 0 to 108128\n",
      "Data columns (total 14 columns):\n",
      "project_id               108129 non-null object\n",
      "name                     108126 non-null object\n",
      "desc                     108120 non-null object\n",
      "goal                     108129 non-null float64\n",
      "keywords                 108129 non-null object\n",
      "disable_communication    108129 non-null bool\n",
      "country                  108129 non-null object\n",
      "currency                 108129 non-null object\n",
      "deadline                 108129 non-null int64\n",
      "state_changed_at         108129 non-null int64\n",
      "created_at               108129 non-null int64\n",
      "launched_at              108129 non-null int64\n",
      "backers_count            108129 non-null int64\n",
      "final_status             108129 non-null int64\n",
      "dtypes: bool(1), float64(1), int64(6), object(6)\n",
      "memory usage: 10.8+ MB\n"
     ]
    }
   ],
   "source": [
    "df.info()"
   ]
  },
  {
   "cell_type": "code",
   "execution_count": 6,
   "metadata": {},
   "outputs": [
    {
     "data": {
      "text/html": [
       "<div>\n",
       "<style scoped>\n",
       "    .dataframe tbody tr th:only-of-type {\n",
       "        vertical-align: middle;\n",
       "    }\n",
       "\n",
       "    .dataframe tbody tr th {\n",
       "        vertical-align: top;\n",
       "    }\n",
       "\n",
       "    .dataframe thead th {\n",
       "        text-align: right;\n",
       "    }\n",
       "</style>\n",
       "<table border=\"1\" class=\"dataframe\">\n",
       "  <thead>\n",
       "    <tr style=\"text-align: right;\">\n",
       "      <th></th>\n",
       "      <th>goal</th>\n",
       "      <th>deadline</th>\n",
       "      <th>state_changed_at</th>\n",
       "      <th>created_at</th>\n",
       "      <th>launched_at</th>\n",
       "      <th>backers_count</th>\n",
       "      <th>final_status</th>\n",
       "    </tr>\n",
       "  </thead>\n",
       "  <tbody>\n",
       "    <tr>\n",
       "      <th>count</th>\n",
       "      <td>1.081290e+05</td>\n",
       "      <td>1.081290e+05</td>\n",
       "      <td>1.081290e+05</td>\n",
       "      <td>1.081290e+05</td>\n",
       "      <td>1.081290e+05</td>\n",
       "      <td>108129.000000</td>\n",
       "      <td>108129.000000</td>\n",
       "    </tr>\n",
       "    <tr>\n",
       "      <th>mean</th>\n",
       "      <td>3.672623e+04</td>\n",
       "      <td>1.380248e+09</td>\n",
       "      <td>1.380153e+09</td>\n",
       "      <td>1.374037e+09</td>\n",
       "      <td>1.377299e+09</td>\n",
       "      <td>123.516661</td>\n",
       "      <td>0.319627</td>\n",
       "    </tr>\n",
       "    <tr>\n",
       "      <th>std</th>\n",
       "      <td>9.719027e+05</td>\n",
       "      <td>4.270222e+07</td>\n",
       "      <td>4.266402e+07</td>\n",
       "      <td>4.272310e+07</td>\n",
       "      <td>4.294421e+07</td>\n",
       "      <td>1176.745162</td>\n",
       "      <td>0.466334</td>\n",
       "    </tr>\n",
       "    <tr>\n",
       "      <th>min</th>\n",
       "      <td>1.000000e-02</td>\n",
       "      <td>1.241334e+09</td>\n",
       "      <td>1.241334e+09</td>\n",
       "      <td>1.240335e+09</td>\n",
       "      <td>1.240603e+09</td>\n",
       "      <td>0.000000</td>\n",
       "      <td>0.000000</td>\n",
       "    </tr>\n",
       "    <tr>\n",
       "      <th>25%</th>\n",
       "      <td>2.000000e+03</td>\n",
       "      <td>1.346732e+09</td>\n",
       "      <td>1.346695e+09</td>\n",
       "      <td>1.340058e+09</td>\n",
       "      <td>1.343917e+09</td>\n",
       "      <td>2.000000</td>\n",
       "      <td>0.000000</td>\n",
       "    </tr>\n",
       "    <tr>\n",
       "      <th>50%</th>\n",
       "      <td>5.000000e+03</td>\n",
       "      <td>1.393628e+09</td>\n",
       "      <td>1.393567e+09</td>\n",
       "      <td>1.384445e+09</td>\n",
       "      <td>1.390870e+09</td>\n",
       "      <td>17.000000</td>\n",
       "      <td>0.000000</td>\n",
       "    </tr>\n",
       "    <tr>\n",
       "      <th>75%</th>\n",
       "      <td>1.300000e+04</td>\n",
       "      <td>1.415719e+09</td>\n",
       "      <td>1.415548e+09</td>\n",
       "      <td>1.409623e+09</td>\n",
       "      <td>1.412807e+09</td>\n",
       "      <td>65.000000</td>\n",
       "      <td>1.000000</td>\n",
       "    </tr>\n",
       "    <tr>\n",
       "      <th>max</th>\n",
       "      <td>1.000000e+08</td>\n",
       "      <td>1.433097e+09</td>\n",
       "      <td>1.433097e+09</td>\n",
       "      <td>1.432325e+09</td>\n",
       "      <td>1.432658e+09</td>\n",
       "      <td>219382.000000</td>\n",
       "      <td>1.000000</td>\n",
       "    </tr>\n",
       "  </tbody>\n",
       "</table>\n",
       "</div>"
      ],
      "text/plain": [
       "               goal      deadline  state_changed_at    created_at  \\\n",
       "count  1.081290e+05  1.081290e+05      1.081290e+05  1.081290e+05   \n",
       "mean   3.672623e+04  1.380248e+09      1.380153e+09  1.374037e+09   \n",
       "std    9.719027e+05  4.270222e+07      4.266402e+07  4.272310e+07   \n",
       "min    1.000000e-02  1.241334e+09      1.241334e+09  1.240335e+09   \n",
       "25%    2.000000e+03  1.346732e+09      1.346695e+09  1.340058e+09   \n",
       "50%    5.000000e+03  1.393628e+09      1.393567e+09  1.384445e+09   \n",
       "75%    1.300000e+04  1.415719e+09      1.415548e+09  1.409623e+09   \n",
       "max    1.000000e+08  1.433097e+09      1.433097e+09  1.432325e+09   \n",
       "\n",
       "        launched_at  backers_count   final_status  \n",
       "count  1.081290e+05  108129.000000  108129.000000  \n",
       "mean   1.377299e+09     123.516661       0.319627  \n",
       "std    4.294421e+07    1176.745162       0.466334  \n",
       "min    1.240603e+09       0.000000       0.000000  \n",
       "25%    1.343917e+09       2.000000       0.000000  \n",
       "50%    1.390870e+09      17.000000       0.000000  \n",
       "75%    1.412807e+09      65.000000       1.000000  \n",
       "max    1.432658e+09  219382.000000       1.000000  "
      ]
     },
     "execution_count": 6,
     "metadata": {},
     "output_type": "execute_result"
    }
   ],
   "source": [
    "df.describe()"
   ]
  },
  {
   "cell_type": "markdown",
   "metadata": {},
   "source": [
    "#### Missing Values"
   ]
  },
  {
   "cell_type": "code",
   "execution_count": 7,
   "metadata": {},
   "outputs": [
    {
     "data": {
      "text/plain": [
       "project_id               0\n",
       "name                     3\n",
       "desc                     9\n",
       "goal                     0\n",
       "keywords                 0\n",
       "disable_communication    0\n",
       "country                  0\n",
       "currency                 0\n",
       "deadline                 0\n",
       "state_changed_at         0\n",
       "created_at               0\n",
       "launched_at              0\n",
       "backers_count            0\n",
       "final_status             0\n",
       "dtype: int64"
      ]
     },
     "execution_count": 7,
     "metadata": {},
     "output_type": "execute_result"
    }
   ],
   "source": [
    "df.isnull().sum() # number of missing values in each column"
   ]
  },
  {
   "cell_type": "code",
   "execution_count": 8,
   "metadata": {},
   "outputs": [
    {
     "data": {
      "text/plain": [
       "project_id               0.000000\n",
       "name                     0.000028\n",
       "desc                     0.000083\n",
       "goal                     0.000000\n",
       "keywords                 0.000000\n",
       "disable_communication    0.000000\n",
       "country                  0.000000\n",
       "currency                 0.000000\n",
       "deadline                 0.000000\n",
       "state_changed_at         0.000000\n",
       "created_at               0.000000\n",
       "launched_at              0.000000\n",
       "backers_count            0.000000\n",
       "final_status             0.000000\n",
       "dtype: float64"
      ]
     },
     "execution_count": 8,
     "metadata": {},
     "output_type": "execute_result"
    }
   ],
   "source": [
    "df.isnull().mean() # percentage missing of total points"
   ]
  },
  {
   "cell_type": "markdown",
   "metadata": {},
   "source": [
    "Exploring how those missing values may impact the target variable, 'final_status'"
   ]
  },
  {
   "cell_type": "code",
   "execution_count": 66,
   "metadata": {},
   "outputs": [
    {
     "data": {
      "image/png": "[encoded data removed]",
      "text/plain": [
       "<Figure size 432x288 with 1 Axes>"
      ]
     },
     "metadata": {
      "needs_background": "light"
     },
     "output_type": "display_data"
    },
    {
     "data": {
      "image/png": "[encoded data removed]",
      "text/plain": [
       "<Figure size 432x288 with 1 Axes>"
      ]
     },
     "metadata": {
      "needs_background": "light"
     },
     "output_type": "display_data"
    }
   ],
   "source": [
    "VARS_WITH_NA = [var for var in df.columns if df[var].isnull().sum()>0]\n",
    "\n",
    "def plot_bin_vars(df, var):\n",
    "    df = df.copy()\n",
    "    df[var] = np.where(df[var].isnull(), \"Missing\", \"Non-Missing\")\n",
    "    df.groupby(var)['final_status'].mean().plot.bar()\n",
    "    plt.title(var)\n",
    "    plt.ylabel('success ratio')\n",
    "    plt.show()\n",
    "    \n",
    "for var in VARS_WITH_NA:\n",
    "    plot_bin_vars(df, var)"
   ]
  },
  {
   "cell_type": "markdown",
   "metadata": {},
   "source": [
    "As can be noticed, projects with no name or description information are likely to be rejected"
   ]
  },
  {
   "cell_type": "markdown",
   "metadata": {},
   "source": [
    "#### Data Balance"
   ]
  },
  {
   "cell_type": "code",
   "execution_count": 14,
   "metadata": {},
   "outputs": [
    {
     "data": {
      "text/plain": [
       "0    73568\n",
       "1    34561\n",
       "Name: final_status, dtype: int64"
      ]
     },
     "execution_count": 14,
     "metadata": {},
     "output_type": "execute_result"
    }
   ],
   "source": [
    "df['final_status'].value_counts()"
   ]
  },
  {
   "cell_type": "code",
   "execution_count": 31,
   "metadata": {},
   "outputs": [
    {
     "name": "stdout",
     "output_type": "stream",
     "text": [
      "0    68.037252\n",
      "1    31.962748\n",
      "Name: final_status, dtype: float64\n"
     ]
    }
   ],
   "source": [
    "print(df['final_status'].value_counts()/len(df)*100) # percent of the total"
   ]
  },
  {
   "cell_type": "markdown",
   "metadata": {},
   "source": [
    "We can notice that the dataset is clearly imbalanced. More projects were rejected than approved for funding. Although this is natural as financiers usually look for very specific things in a project to fund it, we may have to handle this imbalance later in feature engineering notebook"
   ]
  },
  {
   "cell_type": "markdown",
   "metadata": {},
   "source": [
    "#### Numerical Vars"
   ]
  },
  {
   "cell_type": "code",
   "execution_count": 32,
   "metadata": {},
   "outputs": [
    {
     "data": {
      "text/plain": [
       "['goal',\n",
       " 'disable_communication',\n",
       " 'deadline',\n",
       " 'state_changed_at',\n",
       " 'created_at',\n",
       " 'launched_at',\n",
       " 'backers_count',\n",
       " 'final_status']"
      ]
     },
     "execution_count": 32,
     "metadata": {},
     "output_type": "execute_result"
    }
   ],
   "source": [
    "NUM_VARS = [var for var in df.columns if df[var].dtype!='O']\n",
    "\n",
    "NUM_VARS"
   ]
  },
  {
   "cell_type": "markdown",
   "metadata": {},
   "source": [
    "Many of our numerical variables are either binary or date (in unix time format, as deadline, state_changes_at, created_at, and launched_at variables). Let's find which ones are continuous and non-date"
   ]
  },
  {
   "cell_type": "code",
   "execution_count": 34,
   "metadata": {},
   "outputs": [
    {
     "data": {
      "text/plain": [
       "goal                       3567\n",
       "disable_communication         2\n",
       "deadline                 100933\n",
       "state_changed_at         102417\n",
       "created_at               108062\n",
       "launched_at              108039\n",
       "backers_count              2426\n",
       "final_status                  2\n",
       "dtype: int64"
      ]
     },
     "execution_count": 34,
     "metadata": {},
     "output_type": "execute_result"
    }
   ],
   "source": [
    "df[NUM_VARS].nunique() # number of unique vars in each numerical"
   ]
  },
  {
   "cell_type": "markdown",
   "metadata": {},
   "source": [
    "Other than date and binary variables, variables 'goal' and 'backers_count' can be considered numerical continuous. None of the numerical variables can be dismissed for analysis\n",
    "\n",
    "Next, we will check the significance of temporal numeric variables to the target"
   ]
  },
  {
   "cell_type": "code",
   "execution_count": 44,
   "metadata": {},
   "outputs": [
    {
     "data": {
      "image/png": "[encoded data removed]",
      "text/plain": [
       "<Figure size 432x288 with 1 Axes>"
      ]
     },
     "metadata": {
      "needs_background": "light"
     },
     "output_type": "display_data"
    },
    {
     "data": {
      "image/png": "[encoded data removed]",
      "text/plain": [
       "<Figure size 432x288 with 1 Axes>"
      ]
     },
     "metadata": {
      "needs_background": "light"
     },
     "output_type": "display_data"
    },
    {
     "data": {
      "image/png": "[encoded data removed]",
      "text/plain": [
       "<Figure size 432x288 with 1 Axes>"
      ]
     },
     "metadata": {
      "needs_background": "light"
     },
     "output_type": "display_data"
    },
    {
     "data": {
      "image/png": "[encoded data removed]",
      "text/plain": [
       "<Figure size 432x288 with 1 Axes>"
      ]
     },
     "metadata": {
      "needs_background": "light"
     },
     "output_type": "display_data"
    }
   ],
   "source": [
    "TEMP_VARS = ['deadline', 'state_changed_at', 'created_at', 'launched_at']\n",
    "\n",
    "def plot_vars_significance(df, var):\n",
    "    df = df.copy()\n",
    "    df.groupby('final_status')[var].mean().plot.bar()\n",
    "    plt.title(var)\n",
    "    plt.ylabel(var)\n",
    "    plt.show()\n",
    "\n",
    "for var in TEMP_VARS:\n",
    "    plot_vars_significance(df, var)"
   ]
  },
  {
   "cell_type": "markdown",
   "metadata": {},
   "source": [
    "Most projects were created, launched, changed status and deadlined around similar time respective periods (within same months/years), with equivalent approval and denial ratios. Next we will try to find more insights from these date variables. \n",
    "\n",
    "One clearly important feature is the time from creation till deadline, indicating the amount of time given for each project. Another is the time from launching the project live till status change, indicating how quickly (or slowly) the project is funded. In a real scenario, however, we don't know when will status of a project change so this feature is only used for exploration and will therefore not be used further later"
   ]
  },
  {
   "cell_type": "code",
   "execution_count": 45,
   "metadata": {},
   "outputs": [
    {
     "data": {
      "image/png": "[encoded data removed]",
      "text/plain": [
       "<Figure size 432x288 with 1 Axes>"
      ]
     },
     "metadata": {
      "needs_background": "light"
     },
     "output_type": "display_data"
    },
    {
     "data": {
      "image/png": "[encoded data removed]",
      "text/plain": [
       "<Figure size 432x288 with 1 Axes>"
      ]
     },
     "metadata": {
      "needs_background": "light"
     },
     "output_type": "display_data"
    }
   ],
   "source": [
    "def plot_temp_periods(df):\n",
    "    df = df.copy()\n",
    "    df['creation_deadline'] = df['deadline'] - df['created_at']\n",
    "    df['launch_change'] = df['state_changed_at'] - df['launched_at']\n",
    "    \n",
    "    for var in ['creation_deadline', 'launch_change']:\n",
    "        df.groupby('final_status')[var].mean().plot.bar()\n",
    "        plt.title(var)\n",
    "        plt.ylabel(var)\n",
    "        plt.show()\n",
    "\n",
    "plot_temp_periods(df)"
   ]
  },
  {
   "cell_type": "markdown",
   "metadata": {},
   "source": [
    "Although some variations do seem to appear, e.g. projects which were funded successfully had longer time till deadline on average, those are not significant enough to make solid conclusions\n",
    "\n",
    "Next we will check the significance of binary variables on the target"
   ]
  },
  {
   "cell_type": "code",
   "execution_count": 46,
   "metadata": {},
   "outputs": [
    {
     "data": {
      "text/plain": [
       "['disable_communication', 'final_status']"
      ]
     },
     "execution_count": 46,
     "metadata": {},
     "output_type": "execute_result"
    }
   ],
   "source": [
    "BIN_VARS = [var for var in df.columns if df[var].nunique()==2]\n",
    "\n",
    "BIN_VARS"
   ]
  },
  {
   "cell_type": "markdown",
   "metadata": {},
   "source": [
    "We have already checked the balance of the dataset using the target, so the only binary variable to explore is 'disable_communication' which inidcates whether the project authors have disabled communication option with people donating to the project. We will check whether this variable had some impact on the approved projects"
   ]
  },
  {
   "cell_type": "code",
   "execution_count": 65,
   "metadata": {},
   "outputs": [
    {
     "data": {
      "image/png": "[encoded data removed]",
      "text/plain": [
       "<Figure size 432x288 with 1 Axes>"
      ]
     },
     "metadata": {
      "needs_background": "light"
     },
     "output_type": "display_data"
    }
   ],
   "source": [
    "df.groupby('disable_communication')['final_status'].count().plot.bar()\n",
    "plt.ylabel('Funded Projects')\n",
    "plt.title('disable_communication')\n",
    "plt.show()"
   ]
  },
  {
   "cell_type": "markdown",
   "metadata": {},
   "source": [
    "Almost all projects with disabled communications with donnors were not approved for funding. \n",
    "\n",
    "Next, we will inspect continuous non-date variables; 'goal' and 'backers_count' as seen above"
   ]
  },
  {
   "cell_type": "code",
   "execution_count": 61,
   "metadata": {},
   "outputs": [
    {
     "data": {
      "text/plain": [
       "['goal', 'backers_count']"
      ]
     },
     "execution_count": 61,
     "metadata": {},
     "output_type": "execute_result"
    }
   ],
   "source": [
    "CONT_VARS = [var for var in NUM_VARS if var not in BIN_VARS+TEMP_VARS]\n",
    "\n",
    "CONT_VARS"
   ]
  },
  {
   "cell_type": "code",
   "execution_count": 73,
   "metadata": {},
   "outputs": [
    {
     "data": {
      "image/png": "[encoded data removed]",
      "text/plain": [
       "<Figure size 432x288 with 1 Axes>"
      ]
     },
     "metadata": {
      "needs_background": "light"
     },
     "output_type": "display_data"
    },
    {
     "data": {
      "image/png": "[encoded data removed]",
      "text/plain": [
       "<Figure size 432x288 with 1 Axes>"
      ]
     },
     "metadata": {
      "needs_background": "light"
     },
     "output_type": "display_data"
    }
   ],
   "source": [
    "for var in CONT_VARS:\n",
    "    df[var].plot.hist(bins=20, log=True)\n",
    "    plt.title(var)\n",
    "    plt.xlabel(var)\n",
    "    plt.show()"
   ]
  },
  {
   "cell_type": "markdown",
   "metadata": {},
   "source": [
    "From the figures above, most of the projects had financial goals under $30M USD and backer count under 50,000. The log figures do not show a significant trend or follow a specific distribution, therefore no special transformation will be applied to them. To explore the variance within these variables, we will use boxplots "
   ]
  },
  {
   "cell_type": "code",
   "execution_count": 81,
   "metadata": {},
   "outputs": [
    {
     "data": {
      "image/png": "[encoded data removed]",
      "text/plain": [
       "<Figure size 432x288 with 1 Axes>"
      ]
     },
     "metadata": {
      "needs_background": "light"
     },
     "output_type": "display_data"
    },
    {
     "data": {
      "image/png": "[encoded data removed]",
      "text/plain": [
       "<Figure size 432x288 with 1 Axes>"
      ]
     },
     "metadata": {
      "needs_background": "light"
     },
     "output_type": "display_data"
    }
   ],
   "source": [
    "def plot_box_cont_vars(df, var):\n",
    "    df = df.copy()\n",
    "    df[var].plot.box(logy=True)\n",
    "    plt.title(var)\n",
    "    plt.ylabel(var)\n",
    "    plt.show()\n",
    "    \n",
    "for var in CONT_VARS:\n",
    "    plot_box_cont_vars(df, var)"
   ]
  },
  {
   "cell_type": "markdown",
   "metadata": {},
   "source": [
    "Most of projects' financial goal lie between 1,000 USD and $100,000 with other projects having much higher goals. As for the backers count, most projects have under 100 backers. Projects with significantly high financial goals and number of backers will be considered outliers as only few data points exist in these ranges and ML models will be prone to overfitting if those outliers are not eliminated before building the models.\n",
    "\n",
    "We will get rid of these outliers in the feature engineering notebook"
   ]
  },
  {
   "cell_type": "code",
   "execution_count": 64,
   "metadata": {},
   "outputs": [
    {
     "data": {
      "image/png": "[encoded data removed]",
      "text/plain": [
       "<Figure size 432x288 with 1 Axes>"
      ]
     },
     "metadata": {
      "needs_background": "light"
     },
     "output_type": "display_data"
    },
    {
     "data": {
      "image/png": "[encoded data removed]",
      "text/plain": [
       "<Figure size 432x288 with 1 Axes>"
      ]
     },
     "metadata": {
      "needs_background": "light"
     },
     "output_type": "display_data"
    }
   ],
   "source": [
    "def plot_cont_vars(df, var):\n",
    "    df = df.copy()\n",
    "    df.groupby('final_status')[var].median().plot.bar()\n",
    "    plt.title(var)\n",
    "    plt.ylabel(var)\n",
    "    plt.show()\n",
    "    \n",
    "for var in CONT_VARS:\n",
    "    plot_cont_vars(df, var)"
   ]
  },
  {
   "cell_type": "markdown",
   "metadata": {},
   "source": [
    "This first figure shows that successfully funded projects had, on median, lower financial goals than those not funded successfully. The contrast is more striking in the second figure where number of backers had huge influence on the success of funding. Since their influence on the final status, these variables are very important in the decision on whether a new project will be approved or not. "
   ]
  },
  {
   "cell_type": "markdown",
   "metadata": {},
   "source": [
    "#### String Vars\n",
    "Here, we will inspect string variables in the dataset"
   ]
  },
  {
   "cell_type": "code",
   "execution_count": 86,
   "metadata": {},
   "outputs": [
    {
     "data": {
      "text/plain": [
       "['project_id', 'name', 'desc', 'keywords', 'country', 'currency']"
      ]
     },
     "execution_count": 86,
     "metadata": {},
     "output_type": "execute_result"
    }
   ],
   "source": [
    "STR_VARS = [var for var in df.columns if df[var].dtype=='O']\n",
    "\n",
    "STR_VARS"
   ]
  },
  {
   "cell_type": "markdown",
   "metadata": {},
   "source": [
    "Here, 'project_id' is not relevant so it could be dropped from string features list later. Let's inspect how many levels in each of those string variables"
   ]
  },
  {
   "cell_type": "code",
   "execution_count": 84,
   "metadata": {},
   "outputs": [
    {
     "data": {
      "text/plain": [
       "project_id    108129\n",
       "name          107838\n",
       "desc          107377\n",
       "keywords      108129\n",
       "country           11\n",
       "currency           9\n",
       "dtype: int64"
      ]
     },
     "execution_count": 84,
     "metadata": {},
     "output_type": "execute_result"
    }
   ],
   "source": [
    "df[STR_VARS].nunique()"
   ]
  },
  {
   "cell_type": "markdown",
   "metadata": {},
   "source": [
    "Features 'name' and 'desc' have all unique values and therefore have string properties, 'country' and 'currency' have much fewer levels and can be considered as categories in the dataset. We will split these into string and categorical features"
   ]
  },
  {
   "cell_type": "code",
   "execution_count": 87,
   "metadata": {},
   "outputs": [
    {
     "data": {
      "text/plain": [
       "['name', 'desc', 'keywords']"
      ]
     },
     "execution_count": 87,
     "metadata": {},
     "output_type": "execute_result"
    }
   ],
   "source": [
    "CATEGORICALS = [var for var in STR_VARS if df[var].nunique()<20]\n",
    "STR_VARS = [var for var in STR_VARS if df[var].nunique()>20 and var != 'project_id']\n",
    "\n",
    "STR_VARS"
   ]
  },
  {
   "cell_type": "code",
   "execution_count": 88,
   "metadata": {},
   "outputs": [
    {
     "data": {
      "text/html": [
       "<div>\n",
       "<style scoped>\n",
       "    .dataframe tbody tr th:only-of-type {\n",
       "        vertical-align: middle;\n",
       "    }\n",
       "\n",
       "    .dataframe tbody tr th {\n",
       "        vertical-align: top;\n",
       "    }\n",
       "\n",
       "    .dataframe thead th {\n",
       "        text-align: right;\n",
       "    }\n",
       "</style>\n",
       "<table border=\"1\" class=\"dataframe\">\n",
       "  <thead>\n",
       "    <tr style=\"text-align: right;\">\n",
       "      <th></th>\n",
       "      <th>name</th>\n",
       "      <th>desc</th>\n",
       "      <th>keywords</th>\n",
       "    </tr>\n",
       "  </thead>\n",
       "  <tbody>\n",
       "    <tr>\n",
       "      <th>0</th>\n",
       "      <td>drawing for dollars</td>\n",
       "      <td>I like drawing pictures. and then i color them...</td>\n",
       "      <td>drawing-for-dollars</td>\n",
       "    </tr>\n",
       "    <tr>\n",
       "      <th>1</th>\n",
       "      <td>Sponsor Dereck Blackburn (Lostwars) Artist in ...</td>\n",
       "      <td>I, Dereck Blackburn will be taking upon an inc...</td>\n",
       "      <td>sponsor-dereck-blackburn-lostwars-artist-in-re...</td>\n",
       "    </tr>\n",
       "    <tr>\n",
       "      <th>2</th>\n",
       "      <td>Mr. Squiggles</td>\n",
       "      <td>So I saw darkpony's successfully funded drawin...</td>\n",
       "      <td>mr-squiggles</td>\n",
       "    </tr>\n",
       "    <tr>\n",
       "      <th>3</th>\n",
       "      <td>Help me write my second novel.</td>\n",
       "      <td>Do your part to help out starving artists and ...</td>\n",
       "      <td>help-me-write-my-second-novel</td>\n",
       "    </tr>\n",
       "    <tr>\n",
       "      <th>4</th>\n",
       "      <td>Support casting my sculpture in bronze</td>\n",
       "      <td>I'm nearing completion on a sculpture, current...</td>\n",
       "      <td>support-casting-my-sculpture-in-bronze</td>\n",
       "    </tr>\n",
       "  </tbody>\n",
       "</table>\n",
       "</div>"
      ],
      "text/plain": [
       "                                                name  \\\n",
       "0                                drawing for dollars   \n",
       "1  Sponsor Dereck Blackburn (Lostwars) Artist in ...   \n",
       "2                                      Mr. Squiggles   \n",
       "3                     Help me write my second novel.   \n",
       "4             Support casting my sculpture in bronze   \n",
       "\n",
       "                                                desc  \\\n",
       "0  I like drawing pictures. and then i color them...   \n",
       "1  I, Dereck Blackburn will be taking upon an inc...   \n",
       "2  So I saw darkpony's successfully funded drawin...   \n",
       "3  Do your part to help out starving artists and ...   \n",
       "4  I'm nearing completion on a sculpture, current...   \n",
       "\n",
       "                                            keywords  \n",
       "0                                drawing-for-dollars  \n",
       "1  sponsor-dereck-blackburn-lostwars-artist-in-re...  \n",
       "2                                       mr-squiggles  \n",
       "3                      help-me-write-my-second-novel  \n",
       "4             support-casting-my-sculpture-in-bronze  "
      ]
     },
     "execution_count": 88,
     "metadata": {},
     "output_type": "execute_result"
    }
   ],
   "source": [
    "df[STR_VARS].head()"
   ]
  },
  {
   "cell_type": "code",
   "execution_count": 89,
   "metadata": {},
   "outputs": [
    {
     "data": {
      "text/html": [
       "<div>\n",
       "<style scoped>\n",
       "    .dataframe tbody tr th:only-of-type {\n",
       "        vertical-align: middle;\n",
       "    }\n",
       "\n",
       "    .dataframe tbody tr th {\n",
       "        vertical-align: top;\n",
       "    }\n",
       "\n",
       "    .dataframe thead th {\n",
       "        text-align: right;\n",
       "    }\n",
       "</style>\n",
       "<table border=\"1\" class=\"dataframe\">\n",
       "  <thead>\n",
       "    <tr style=\"text-align: right;\">\n",
       "      <th></th>\n",
       "      <th>country</th>\n",
       "      <th>currency</th>\n",
       "    </tr>\n",
       "  </thead>\n",
       "  <tbody>\n",
       "    <tr>\n",
       "      <th>0</th>\n",
       "      <td>US</td>\n",
       "      <td>USD</td>\n",
       "    </tr>\n",
       "    <tr>\n",
       "      <th>1</th>\n",
       "      <td>US</td>\n",
       "      <td>USD</td>\n",
       "    </tr>\n",
       "    <tr>\n",
       "      <th>2</th>\n",
       "      <td>US</td>\n",
       "      <td>USD</td>\n",
       "    </tr>\n",
       "    <tr>\n",
       "      <th>3</th>\n",
       "      <td>US</td>\n",
       "      <td>USD</td>\n",
       "    </tr>\n",
       "    <tr>\n",
       "      <th>4</th>\n",
       "      <td>US</td>\n",
       "      <td>USD</td>\n",
       "    </tr>\n",
       "  </tbody>\n",
       "</table>\n",
       "</div>"
      ],
      "text/plain": [
       "  country currency\n",
       "0      US      USD\n",
       "1      US      USD\n",
       "2      US      USD\n",
       "3      US      USD\n",
       "4      US      USD"
      ]
     },
     "execution_count": 89,
     "metadata": {},
     "output_type": "execute_result"
    }
   ],
   "source": [
    "df[CATEGORICALS].head()"
   ]
  },
  {
   "cell_type": "markdown",
   "metadata": {},
   "source": [
    "We will now inspect categorical features first. Then we'll engineer string variables properly\n"
   ]
  },
  {
   "cell_type": "code",
   "execution_count": 91,
   "metadata": {},
   "outputs": [
    {
     "data": {
      "text/plain": [
       "array(['US', 'GB', 'CA', 'AU', 'NZ', 'NL', 'SE', 'IE', 'NO', 'DK', 'DE'],\n",
       "      dtype=object)"
      ]
     },
     "execution_count": 91,
     "metadata": {},
     "output_type": "execute_result"
    }
   ],
   "source": [
    "df['country'].unique()"
   ]
  },
  {
   "cell_type": "code",
   "execution_count": 135,
   "metadata": {},
   "outputs": [
    {
     "data": {
      "text/plain": [
       "array(['USD', 'GBP', 'CAD', 'AUD', 'NZD', 'EUR', 'SEK', 'NOK', 'DKK'],\n",
       "      dtype=object)"
      ]
     },
     "execution_count": 135,
     "metadata": {},
     "output_type": "execute_result"
    }
   ],
   "source": [
    "df['currency'].unique()"
   ]
  },
  {
   "cell_type": "code",
   "execution_count": 136,
   "metadata": {},
   "outputs": [
    {
     "data": {
      "image/png": "[encoded data removed]",
      "text/plain": [
       "<Figure size 432x288 with 1 Axes>"
      ]
     },
     "metadata": {
      "needs_background": "light"
     },
     "output_type": "display_data"
    },
    {
     "data": {
      "image/png": "[encoded data removed]",
      "text/plain": [
       "<Figure size 432x288 with 1 Axes>"
      ]
     },
     "metadata": {
      "needs_background": "light"
     },
     "output_type": "display_data"
    }
   ],
   "source": [
    "def plot_count_bars(df, var):\n",
    "    df.groupby(var)['final_status'].count().plot.bar()\n",
    "    plt.ylabel('number of projects')\n",
    "    plt.title(f'Number of projects per {var}')\n",
    "    plt.show()\n",
    "    \n",
    "for var in CATEGORICALS:\n",
    "    plot_count_bars(df, var)"
   ]
  },
  {
   "cell_type": "markdown",
   "metadata": {},
   "source": [
    "Most of the dataset projects were created in the US and in USD currency. Let's inspect how many countries and currencies are rarely submitting projects (<1% total submittals)"
   ]
  },
  {
   "cell_type": "code",
   "execution_count": 133,
   "metadata": {},
   "outputs": [],
   "source": [
    "def rare_labels(df, var, rare_perc):\n",
    "    df = df.copy()\n",
    "    return list(df[var].value_counts()[df[var].value_counts()/len(df) < rare_perc].index)"
   ]
  },
  {
   "cell_type": "code",
   "execution_count": 134,
   "metadata": {},
   "outputs": [
    {
     "data": {
      "text/plain": [
       "['NL', 'NZ', 'SE', 'DK', 'NO', 'IE', 'DE']"
      ]
     },
     "execution_count": 134,
     "metadata": {},
     "output_type": "execute_result"
    }
   ],
   "source": [
    "rare_countries = rare_labels(df, 'country', 0.01)\n",
    "rare_countries"
   ]
  },
  {
   "cell_type": "code",
   "execution_count": 137,
   "metadata": {},
   "outputs": [
    {
     "data": {
      "text/plain": [
       "['EUR', 'NZD', 'SEK', 'DKK', 'NOK']"
      ]
     },
     "execution_count": 137,
     "metadata": {},
     "output_type": "execute_result"
    }
   ],
   "source": [
    "rare_currencies = rare_labels(df, 'currency', 0.01)\n",
    "rare_currencies"
   ]
  },
  {
   "cell_type": "markdown",
   "metadata": {},
   "source": [
    "Those rare countries and currencies will be dealt with in feature engineering notebook"
   ]
  },
  {
   "cell_type": "code",
   "execution_count": 141,
   "metadata": {},
   "outputs": [
    {
     "data": {
      "image/png": "[encoded data removed]",
      "text/plain": [
       "<Figure size 432x288 with 1 Axes>"
      ]
     },
     "metadata": {
      "needs_background": "light"
     },
     "output_type": "display_data"
    },
    {
     "data": {
      "image/png": "[encoded data removed]",
      "text/plain": [
       "<Figure size 432x288 with 1 Axes>"
      ]
     },
     "metadata": {
      "needs_background": "light"
     },
     "output_type": "display_data"
    }
   ],
   "source": [
    "def plot_cat_target(df, var):\n",
    "    df = df.copy()\n",
    "    df.groupby(var)['final_status'].mean().plot.bar()\n",
    "    plt.ylabel('% successfully funded projects')\n",
    "    plt.title(f'% successfully funded projects per {var}')\n",
    "    plt.show()\n",
    "\n",
    "for var in CATEGORICALS:\n",
    "    plot_cat_target(df, var)"
   ]
  },
  {
   "cell_type": "markdown",
   "metadata": {},
   "source": [
    "This shows varying degrees of fund successes across countries and currencies, still dominated by the US with more than 30% fund successes.\n",
    "\n",
    "Next, we will inspect and engineer string features to extract insight from them"
   ]
  },
  {
   "cell_type": "code",
   "execution_count": 142,
   "metadata": {},
   "outputs": [
    {
     "data": {
      "text/plain": [
       "['name', 'desc', 'keywords']"
      ]
     },
     "execution_count": 142,
     "metadata": {},
     "output_type": "execute_result"
    }
   ],
   "source": [
    "STR_VARS"
   ]
  },
  {
   "cell_type": "code",
   "execution_count": 146,
   "metadata": {},
   "outputs": [
    {
     "data": {
      "text/html": [
       "<div>\n",
       "<style scoped>\n",
       "    .dataframe tbody tr th:only-of-type {\n",
       "        vertical-align: middle;\n",
       "    }\n",
       "\n",
       "    .dataframe tbody tr th {\n",
       "        vertical-align: top;\n",
       "    }\n",
       "\n",
       "    .dataframe thead th {\n",
       "        text-align: right;\n",
       "    }\n",
       "</style>\n",
       "<table border=\"1\" class=\"dataframe\">\n",
       "  <thead>\n",
       "    <tr style=\"text-align: right;\">\n",
       "      <th></th>\n",
       "      <th>name</th>\n",
       "      <th>desc</th>\n",
       "      <th>keywords</th>\n",
       "    </tr>\n",
       "  </thead>\n",
       "  <tbody>\n",
       "    <tr>\n",
       "      <th>0</th>\n",
       "      <td>drawing for dollars</td>\n",
       "      <td>I like drawing pictures. and then i color them...</td>\n",
       "      <td>drawing-for-dollars</td>\n",
       "    </tr>\n",
       "    <tr>\n",
       "      <th>1</th>\n",
       "      <td>Sponsor Dereck Blackburn (Lostwars) Artist in ...</td>\n",
       "      <td>I, Dereck Blackburn will be taking upon an inc...</td>\n",
       "      <td>sponsor-dereck-blackburn-lostwars-artist-in-re...</td>\n",
       "    </tr>\n",
       "    <tr>\n",
       "      <th>2</th>\n",
       "      <td>Mr. Squiggles</td>\n",
       "      <td>So I saw darkpony's successfully funded drawin...</td>\n",
       "      <td>mr-squiggles</td>\n",
       "    </tr>\n",
       "    <tr>\n",
       "      <th>3</th>\n",
       "      <td>Help me write my second novel.</td>\n",
       "      <td>Do your part to help out starving artists and ...</td>\n",
       "      <td>help-me-write-my-second-novel</td>\n",
       "    </tr>\n",
       "    <tr>\n",
       "      <th>4</th>\n",
       "      <td>Support casting my sculpture in bronze</td>\n",
       "      <td>I'm nearing completion on a sculpture, current...</td>\n",
       "      <td>support-casting-my-sculpture-in-bronze</td>\n",
       "    </tr>\n",
       "    <tr>\n",
       "      <th>5</th>\n",
       "      <td>daily digest</td>\n",
       "      <td>I'm a fledgling videoblogger living in Brookly...</td>\n",
       "      <td>daily-digest</td>\n",
       "    </tr>\n",
       "    <tr>\n",
       "      <th>6</th>\n",
       "      <td>iGoozex - Free iPhone app</td>\n",
       "      <td>I am an independent iPhone developer that beli...</td>\n",
       "      <td>igoozex-free-iphone-app</td>\n",
       "    </tr>\n",
       "    <tr>\n",
       "      <th>7</th>\n",
       "      <td>Drive A Faster Car 2.0</td>\n",
       "      <td>Drive A Faster Car (http://www.driveafastercar...</td>\n",
       "      <td>drive-a-faster-car-20</td>\n",
       "    </tr>\n",
       "    <tr>\n",
       "      <th>8</th>\n",
       "      <td>\"\"\"\"\"\"\"\"\"\"\"\"\"\"\"\"\"\"\"\"\"\"\"\"\"\"\"\"\"\"\"\"\"\"\"\"\"\"\"\"\"\"\"\"\"\"...</td>\n",
       "      <td>Opening Friday, June 5 2009, on view through S...</td>\n",
       "      <td>lostles-at-tinys-giant</td>\n",
       "    </tr>\n",
       "    <tr>\n",
       "      <th>9</th>\n",
       "      <td>Choose Your Own Adventure - A Robot Painting S...</td>\n",
       "      <td>This project is for a Choose Your Own Adventur...</td>\n",
       "      <td>choose-your-own-adventure-a-robot-painting-series</td>\n",
       "    </tr>\n",
       "    <tr>\n",
       "      <th>10</th>\n",
       "      <td>Anatomy of a Credibility Meltdown — a book abo...</td>\n",
       "      <td>I am an independent PR practitioner with a lon...</td>\n",
       "      <td>anatomy-of-a-credibility-meltdown-a-book-about...</td>\n",
       "    </tr>\n",
       "    <tr>\n",
       "      <th>11</th>\n",
       "      <td>No-bit: An artist book of analog drawings insp...</td>\n",
       "      <td>I want to create an artist book of drawings in...</td>\n",
       "      <td>no-bit-an-artist-book-of-analog-drawings-inspi...</td>\n",
       "    </tr>\n",
       "    <tr>\n",
       "      <th>12</th>\n",
       "      <td>Indie Nerd Board Game, Needs Player Character ...</td>\n",
       "      <td>pictured here is the character we would like t...</td>\n",
       "      <td>indie-nerd-board-game-needs-hero-miniature-scu...</td>\n",
       "    </tr>\n",
       "    <tr>\n",
       "      <th>13</th>\n",
       "      <td>Icons for your iPhone apps</td>\n",
       "      <td>I make cool icons for iPhone developers at htt...</td>\n",
       "      <td>awesome-icons-for-your-iphone-apps</td>\n",
       "    </tr>\n",
       "    <tr>\n",
       "      <th>14</th>\n",
       "      <td>HAPPY VALLEY: Dexter meets 6 Feet Under. For t...</td>\n",
       "      <td>I am a professional creator and producer of we...</td>\n",
       "      <td>help-me-make-my-webseries-pilot-on-crime-and-a...</td>\n",
       "    </tr>\n",
       "  </tbody>\n",
       "</table>\n",
       "</div>"
      ],
      "text/plain": [
       "                                                 name  \\\n",
       "0                                 drawing for dollars   \n",
       "1   Sponsor Dereck Blackburn (Lostwars) Artist in ...   \n",
       "2                                       Mr. Squiggles   \n",
       "3                      Help me write my second novel.   \n",
       "4              Support casting my sculpture in bronze   \n",
       "5                                        daily digest   \n",
       "6                           iGoozex - Free iPhone app   \n",
       "7                              Drive A Faster Car 2.0   \n",
       "8   \"\"\"\"\"\"\"\"\"\"\"\"\"\"\"\"\"\"\"\"\"\"\"\"\"\"\"\"\"\"\"\"\"\"\"\"\"\"\"\"\"\"\"\"\"\"...   \n",
       "9   Choose Your Own Adventure - A Robot Painting S...   \n",
       "10  Anatomy of a Credibility Meltdown — a book abo...   \n",
       "11  No-bit: An artist book of analog drawings insp...   \n",
       "12  Indie Nerd Board Game, Needs Player Character ...   \n",
       "13                         Icons for your iPhone apps   \n",
       "14  HAPPY VALLEY: Dexter meets 6 Feet Under. For t...   \n",
       "\n",
       "                                                 desc  \\\n",
       "0   I like drawing pictures. and then i color them...   \n",
       "1   I, Dereck Blackburn will be taking upon an inc...   \n",
       "2   So I saw darkpony's successfully funded drawin...   \n",
       "3   Do your part to help out starving artists and ...   \n",
       "4   I'm nearing completion on a sculpture, current...   \n",
       "5   I'm a fledgling videoblogger living in Brookly...   \n",
       "6   I am an independent iPhone developer that beli...   \n",
       "7   Drive A Faster Car (http://www.driveafastercar...   \n",
       "8   Opening Friday, June 5 2009, on view through S...   \n",
       "9   This project is for a Choose Your Own Adventur...   \n",
       "10  I am an independent PR practitioner with a lon...   \n",
       "11  I want to create an artist book of drawings in...   \n",
       "12  pictured here is the character we would like t...   \n",
       "13  I make cool icons for iPhone developers at htt...   \n",
       "14  I am a professional creator and producer of we...   \n",
       "\n",
       "                                             keywords  \n",
       "0                                 drawing-for-dollars  \n",
       "1   sponsor-dereck-blackburn-lostwars-artist-in-re...  \n",
       "2                                        mr-squiggles  \n",
       "3                       help-me-write-my-second-novel  \n",
       "4              support-casting-my-sculpture-in-bronze  \n",
       "5                                        daily-digest  \n",
       "6                             igoozex-free-iphone-app  \n",
       "7                               drive-a-faster-car-20  \n",
       "8                              lostles-at-tinys-giant  \n",
       "9   choose-your-own-adventure-a-robot-painting-series  \n",
       "10  anatomy-of-a-credibility-meltdown-a-book-about...  \n",
       "11  no-bit-an-artist-book-of-analog-drawings-inspi...  \n",
       "12  indie-nerd-board-game-needs-hero-miniature-scu...  \n",
       "13                 awesome-icons-for-your-iphone-apps  \n",
       "14  help-me-make-my-webseries-pilot-on-crime-and-a...  "
      ]
     },
     "execution_count": 146,
     "metadata": {},
     "output_type": "execute_result"
    }
   ],
   "source": [
    "df[STR_VARS].head(15)"
   ]
  },
  {
   "cell_type": "markdown",
   "metadata": {},
   "source": [
    "We notice that keywords column is mostly just the name column with words in lowercase and separated by dashes. to avoid overfitting, we will only consider one of them. In this case, we will consider the keywords column as some names have been missing as seen before. We will separate the words and pass them to a vectorizer that identifies their significance\n",
    "\n",
    "Here, we will use Tfidf-Vectorizer (Term Frequency-Inverse Term Frequency) "
   ]
  },
  {
   "cell_type": "code",
   "execution_count": 147,
   "metadata": {},
   "outputs": [
    {
     "data": {
      "text/html": [
       "<div>\n",
       "<style scoped>\n",
       "    .dataframe tbody tr th:only-of-type {\n",
       "        vertical-align: middle;\n",
       "    }\n",
       "\n",
       "    .dataframe tbody tr th {\n",
       "        vertical-align: top;\n",
       "    }\n",
       "\n",
       "    .dataframe thead th {\n",
       "        text-align: right;\n",
       "    }\n",
       "</style>\n",
       "<table border=\"1\" class=\"dataframe\">\n",
       "  <thead>\n",
       "    <tr style=\"text-align: right;\">\n",
       "      <th></th>\n",
       "      <th>desc</th>\n",
       "      <th>keywords</th>\n",
       "    </tr>\n",
       "  </thead>\n",
       "  <tbody>\n",
       "    <tr>\n",
       "      <th>0</th>\n",
       "      <td>I like drawing pictures. and then i color them...</td>\n",
       "      <td>drawing for dollars</td>\n",
       "    </tr>\n",
       "    <tr>\n",
       "      <th>1</th>\n",
       "      <td>I, Dereck Blackburn will be taking upon an inc...</td>\n",
       "      <td>sponsor dereck blackburn lostwars artist in re...</td>\n",
       "    </tr>\n",
       "    <tr>\n",
       "      <th>2</th>\n",
       "      <td>So I saw darkpony's successfully funded drawin...</td>\n",
       "      <td>mr squiggles</td>\n",
       "    </tr>\n",
       "    <tr>\n",
       "      <th>3</th>\n",
       "      <td>Do your part to help out starving artists and ...</td>\n",
       "      <td>help me write my second novel</td>\n",
       "    </tr>\n",
       "    <tr>\n",
       "      <th>4</th>\n",
       "      <td>I'm nearing completion on a sculpture, current...</td>\n",
       "      <td>support casting my sculpture in bronze</td>\n",
       "    </tr>\n",
       "  </tbody>\n",
       "</table>\n",
       "</div>"
      ],
      "text/plain": [
       "                                                desc  \\\n",
       "0  I like drawing pictures. and then i color them...   \n",
       "1  I, Dereck Blackburn will be taking upon an inc...   \n",
       "2  So I saw darkpony's successfully funded drawin...   \n",
       "3  Do your part to help out starving artists and ...   \n",
       "4  I'm nearing completion on a sculpture, current...   \n",
       "\n",
       "                                            keywords  \n",
       "0                                drawing for dollars  \n",
       "1  sponsor dereck blackburn lostwars artist in re...  \n",
       "2                                       mr squiggles  \n",
       "3                      help me write my second novel  \n",
       "4             support casting my sculpture in bronze  "
      ]
     },
     "execution_count": 147,
     "metadata": {},
     "output_type": "execute_result"
    }
   ],
   "source": [
    "STR_VARS = ['desc', 'keywords']\n",
    "\n",
    "df.keywords = df.keywords.str.replace('-', ' ') # replace dashes with spaces\n",
    "\n",
    "df[STR_VARS].head()"
   ]
  },
  {
   "cell_type": "markdown",
   "metadata": {},
   "source": [
    "Before vectorizing the string columns, we can simplify things a bit by merging the 'keywords' and 'desc' into one string column and creating a single vectorizer for the resultant column only"
   ]
  },
  {
   "cell_type": "code",
   "execution_count": 154,
   "metadata": {},
   "outputs": [
    {
     "data": {
      "text/html": [
       "<div>\n",
       "<style scoped>\n",
       "    .dataframe tbody tr th:only-of-type {\n",
       "        vertical-align: middle;\n",
       "    }\n",
       "\n",
       "    .dataframe tbody tr th {\n",
       "        vertical-align: top;\n",
       "    }\n",
       "\n",
       "    .dataframe thead th {\n",
       "        text-align: right;\n",
       "    }\n",
       "</style>\n",
       "<table border=\"1\" class=\"dataframe\">\n",
       "  <thead>\n",
       "    <tr style=\"text-align: right;\">\n",
       "      <th></th>\n",
       "      <th>desc</th>\n",
       "      <th>keywords</th>\n",
       "    </tr>\n",
       "  </thead>\n",
       "  <tbody>\n",
       "    <tr>\n",
       "      <th>0</th>\n",
       "      <td>I like drawing pictures. and then i color them...</td>\n",
       "      <td>drawing for dollars</td>\n",
       "    </tr>\n",
       "    <tr>\n",
       "      <th>1</th>\n",
       "      <td>I, Dereck Blackburn will be taking upon an inc...</td>\n",
       "      <td>sponsor dereck blackburn lostwars artist in re...</td>\n",
       "    </tr>\n",
       "    <tr>\n",
       "      <th>2</th>\n",
       "      <td>So I saw darkpony's successfully funded drawin...</td>\n",
       "      <td>mr squiggles</td>\n",
       "    </tr>\n",
       "    <tr>\n",
       "      <th>3</th>\n",
       "      <td>Do your part to help out starving artists and ...</td>\n",
       "      <td>help me write my second novel</td>\n",
       "    </tr>\n",
       "    <tr>\n",
       "      <th>4</th>\n",
       "      <td>I'm nearing completion on a sculpture, current...</td>\n",
       "      <td>support casting my sculpture in bronze</td>\n",
       "    </tr>\n",
       "  </tbody>\n",
       "</table>\n",
       "</div>"
      ],
      "text/plain": [
       "                                                desc  \\\n",
       "0  I like drawing pictures. and then i color them...   \n",
       "1  I, Dereck Blackburn will be taking upon an inc...   \n",
       "2  So I saw darkpony's successfully funded drawin...   \n",
       "3  Do your part to help out starving artists and ...   \n",
       "4  I'm nearing completion on a sculpture, current...   \n",
       "\n",
       "                                            keywords  \n",
       "0                                drawing for dollars  \n",
       "1  sponsor dereck blackburn lostwars artist in re...  \n",
       "2                                       mr squiggles  \n",
       "3                      help me write my second novel  \n",
       "4             support casting my sculpture in bronze  "
      ]
     },
     "execution_count": 154,
     "metadata": {},
     "output_type": "execute_result"
    }
   ],
   "source": [
    "df.dropna(inplace=True)\n",
    "df.reset_index()\n",
    "df[STR_VARS].head()"
   ]
  },
  {
   "cell_type": "code",
   "execution_count": 155,
   "metadata": {},
   "outputs": [
    {
     "data": {
      "text/plain": [
       "0    drawing for dollars I like drawing pictures. a...\n",
       "1    sponsor dereck blackburn lostwars artist in re...\n",
       "2    mr squiggles So I saw darkpony's successfully ...\n",
       "3    help me write my second novel Do your part to ...\n",
       "4    support casting my sculpture in bronze I'm nea...\n",
       "Name: name-desc, dtype: object"
      ]
     },
     "execution_count": 155,
     "metadata": {},
     "output_type": "execute_result"
    }
   ],
   "source": [
    "df['name-desc'] = df['keywords'] + ' ' + df['desc'] \n",
    "\n",
    "df['name-desc'].head()"
   ]
  },
  {
   "cell_type": "code",
   "execution_count": 172,
   "metadata": {},
   "outputs": [
    {
     "data": {
      "text/html": [
       "<div>\n",
       "<style scoped>\n",
       "    .dataframe tbody tr th:only-of-type {\n",
       "        vertical-align: middle;\n",
       "    }\n",
       "\n",
       "    .dataframe tbody tr th {\n",
       "        vertical-align: top;\n",
       "    }\n",
       "\n",
       "    .dataframe thead th {\n",
       "        text-align: right;\n",
       "    }\n",
       "</style>\n",
       "<table border=\"1\" class=\"dataframe\">\n",
       "  <thead>\n",
       "    <tr style=\"text-align: right;\">\n",
       "      <th></th>\n",
       "      <th>000</th>\n",
       "      <th>10</th>\n",
       "      <th>100</th>\n",
       "      <th>11</th>\n",
       "      <th>12</th>\n",
       "      <th>13</th>\n",
       "      <th>15</th>\n",
       "      <th>1st</th>\n",
       "      <th>20</th>\n",
       "      <th>2011</th>\n",
       "      <th>...</th>\n",
       "      <th>year</th>\n",
       "      <th>year old</th>\n",
       "      <th>years</th>\n",
       "      <th>yet</th>\n",
       "      <th>york</th>\n",
       "      <th>young</th>\n",
       "      <th>youth</th>\n",
       "      <th>youtube</th>\n",
       "      <th>zombie</th>\n",
       "      <th>zombies</th>\n",
       "    </tr>\n",
       "  </thead>\n",
       "  <tbody>\n",
       "    <tr>\n",
       "      <th>0</th>\n",
       "      <td>0.0</td>\n",
       "      <td>0.0</td>\n",
       "      <td>0.0</td>\n",
       "      <td>0.0</td>\n",
       "      <td>0.0</td>\n",
       "      <td>0.000000</td>\n",
       "      <td>0.0</td>\n",
       "      <td>0.0</td>\n",
       "      <td>0.0</td>\n",
       "      <td>0.0</td>\n",
       "      <td>...</td>\n",
       "      <td>0.0</td>\n",
       "      <td>0.0</td>\n",
       "      <td>0.0</td>\n",
       "      <td>0.0</td>\n",
       "      <td>0.0</td>\n",
       "      <td>0.0</td>\n",
       "      <td>0.0</td>\n",
       "      <td>0.0</td>\n",
       "      <td>0.0</td>\n",
       "      <td>0.0</td>\n",
       "    </tr>\n",
       "    <tr>\n",
       "      <th>1</th>\n",
       "      <td>0.0</td>\n",
       "      <td>0.0</td>\n",
       "      <td>0.0</td>\n",
       "      <td>0.0</td>\n",
       "      <td>0.0</td>\n",
       "      <td>0.000000</td>\n",
       "      <td>0.0</td>\n",
       "      <td>0.0</td>\n",
       "      <td>0.0</td>\n",
       "      <td>0.0</td>\n",
       "      <td>...</td>\n",
       "      <td>0.0</td>\n",
       "      <td>0.0</td>\n",
       "      <td>0.0</td>\n",
       "      <td>0.0</td>\n",
       "      <td>0.0</td>\n",
       "      <td>0.0</td>\n",
       "      <td>0.0</td>\n",
       "      <td>0.0</td>\n",
       "      <td>0.0</td>\n",
       "      <td>0.0</td>\n",
       "    </tr>\n",
       "    <tr>\n",
       "      <th>2</th>\n",
       "      <td>0.0</td>\n",
       "      <td>0.0</td>\n",
       "      <td>0.0</td>\n",
       "      <td>0.0</td>\n",
       "      <td>0.0</td>\n",
       "      <td>0.000000</td>\n",
       "      <td>0.0</td>\n",
       "      <td>0.0</td>\n",
       "      <td>0.0</td>\n",
       "      <td>0.0</td>\n",
       "      <td>...</td>\n",
       "      <td>0.0</td>\n",
       "      <td>0.0</td>\n",
       "      <td>0.0</td>\n",
       "      <td>0.0</td>\n",
       "      <td>0.0</td>\n",
       "      <td>0.0</td>\n",
       "      <td>0.0</td>\n",
       "      <td>0.0</td>\n",
       "      <td>0.0</td>\n",
       "      <td>0.0</td>\n",
       "    </tr>\n",
       "    <tr>\n",
       "      <th>3</th>\n",
       "      <td>0.0</td>\n",
       "      <td>0.0</td>\n",
       "      <td>0.0</td>\n",
       "      <td>0.0</td>\n",
       "      <td>0.0</td>\n",
       "      <td>0.000000</td>\n",
       "      <td>0.0</td>\n",
       "      <td>0.0</td>\n",
       "      <td>0.0</td>\n",
       "      <td>0.0</td>\n",
       "      <td>...</td>\n",
       "      <td>0.0</td>\n",
       "      <td>0.0</td>\n",
       "      <td>0.0</td>\n",
       "      <td>0.0</td>\n",
       "      <td>0.0</td>\n",
       "      <td>0.0</td>\n",
       "      <td>0.0</td>\n",
       "      <td>0.0</td>\n",
       "      <td>0.0</td>\n",
       "      <td>0.0</td>\n",
       "    </tr>\n",
       "    <tr>\n",
       "      <th>4</th>\n",
       "      <td>0.0</td>\n",
       "      <td>0.0</td>\n",
       "      <td>0.0</td>\n",
       "      <td>0.0</td>\n",
       "      <td>0.0</td>\n",
       "      <td>0.396761</td>\n",
       "      <td>0.0</td>\n",
       "      <td>0.0</td>\n",
       "      <td>0.0</td>\n",
       "      <td>0.0</td>\n",
       "      <td>...</td>\n",
       "      <td>0.0</td>\n",
       "      <td>0.0</td>\n",
       "      <td>0.0</td>\n",
       "      <td>0.0</td>\n",
       "      <td>0.0</td>\n",
       "      <td>0.0</td>\n",
       "      <td>0.0</td>\n",
       "      <td>0.0</td>\n",
       "      <td>0.0</td>\n",
       "      <td>0.0</td>\n",
       "    </tr>\n",
       "  </tbody>\n",
       "</table>\n",
       "<p>5 rows × 1000 columns</p>\n",
       "</div>"
      ],
      "text/plain": [
       "   000   10  100   11   12        13   15  1st   20  2011  ...  year  \\\n",
       "0  0.0  0.0  0.0  0.0  0.0  0.000000  0.0  0.0  0.0   0.0  ...   0.0   \n",
       "1  0.0  0.0  0.0  0.0  0.0  0.000000  0.0  0.0  0.0   0.0  ...   0.0   \n",
       "2  0.0  0.0  0.0  0.0  0.0  0.000000  0.0  0.0  0.0   0.0  ...   0.0   \n",
       "3  0.0  0.0  0.0  0.0  0.0  0.000000  0.0  0.0  0.0   0.0  ...   0.0   \n",
       "4  0.0  0.0  0.0  0.0  0.0  0.396761  0.0  0.0  0.0   0.0  ...   0.0   \n",
       "\n",
       "   year old  years  yet  york  young  youth  youtube  zombie  zombies  \n",
       "0       0.0    0.0  0.0   0.0    0.0    0.0      0.0     0.0      0.0  \n",
       "1       0.0    0.0  0.0   0.0    0.0    0.0      0.0     0.0      0.0  \n",
       "2       0.0    0.0  0.0   0.0    0.0    0.0      0.0     0.0      0.0  \n",
       "3       0.0    0.0  0.0   0.0    0.0    0.0      0.0     0.0      0.0  \n",
       "4       0.0    0.0  0.0   0.0    0.0    0.0      0.0     0.0      0.0  \n",
       "\n",
       "[5 rows x 1000 columns]"
      ]
     },
     "execution_count": 172,
     "metadata": {},
     "output_type": "execute_result"
    }
   ],
   "source": [
    "from sklearn.feature_extraction.text import TfidfVectorizer\n",
    "from nltk.corpus import stopwords\n",
    "\n",
    "tfidf = TfidfVectorizer(stop_words=stopwords.words('english'), ngram_range=(1,2), max_df=0.7, max_features=1000)\n",
    "\n",
    "X = tfidf.fit_transform(df['name-desc']).todense().tolist()\n",
    "feat_names = tfidf.get_feature_names()\n",
    "\n",
    "X = pd.DataFrame(X, columns=feat_names)\n",
    "X.head()"
   ]
  },
  {
   "cell_type": "code",
   "execution_count": 173,
   "metadata": {},
   "outputs": [
    {
     "data": {
      "text/plain": [
       "(108119, 1000)"
      ]
     },
     "execution_count": 173,
     "metadata": {},
     "output_type": "execute_result"
    }
   ],
   "source": [
    "X.shape"
   ]
  },
  {
   "cell_type": "code",
   "execution_count": 174,
   "metadata": {},
   "outputs": [
    {
     "data": {
      "text/plain": [
       "{'like': 498,\n",
       " 'pictures': 635,\n",
       " 'color': 165,\n",
       " 'would': 982,\n",
       " 'something': 809,\n",
       " 'wants': 950,\n",
       " 'artist': 61,\n",
       " 'taking': 868,\n",
       " 'journey': 464,\n",
       " 'month': 550,\n",
       " 'may': 531,\n",
       " 'traveling': 905,\n",
       " 'project': 690,\n",
       " 'fun': 354,\n",
       " 'help': 406,\n",
       " 'write': 984,\n",
       " 'second': 767,\n",
       " 'novel': 593,\n",
       " 'part': 615,\n",
       " 'artists': 62,\n",
       " 'finished': 328,\n",
       " 'writing': 987,\n",
       " 'first': 330,\n",
       " 'support': 858,\n",
       " 'sculpture': 763,\n",
       " 'currently': 203,\n",
       " 'man': 527,\n",
       " '13': 5,\n",
       " 'daily': 205,\n",
       " 'living': 505,\n",
       " 'brooklyn': 110,\n",
       " 'making': 526,\n",
       " 'check': 145,\n",
       " 'www': 989,\n",
       " 'com': 166,\n",
       " 'free': 345,\n",
       " 'iphone': 453,\n",
       " 'app': 53,\n",
       " 'independent': 439,\n",
       " 'software': 806,\n",
       " 'released': 728,\n",
       " 'drive': 244,\n",
       " 'car': 128,\n",
       " '20': 8,\n",
       " 'personal': 627,\n",
       " 'love': 513,\n",
       " 'past': 618,\n",
       " 'years': 992,\n",
       " 'view': 937,\n",
       " 'shop': 784,\n",
       " 'st': 827,\n",
       " 'nyc': 594,\n",
       " 'michael': 538,\n",
       " 'choose': 150,\n",
       " 'adventure': 24,\n",
       " 'robot': 741,\n",
       " 'painting': 610,\n",
       " 'series': 775,\n",
       " 'works': 979,\n",
       " 'put': 700,\n",
       " 'line': 501,\n",
       " 'book': 100,\n",
       " 'bit': 93,\n",
       " 'inspired': 445,\n",
       " 'digital': 231,\n",
       " 'want': 947,\n",
       " 'create': 193,\n",
       " 'work': 977,\n",
       " 'art': 59,\n",
       " 'form': 342,\n",
       " 'indie': 440,\n",
       " 'board': 98,\n",
       " 'game': 361,\n",
       " 'needs': 576,\n",
       " 'hero': 413,\n",
       " 'character': 143,\n",
       " 'high': 416,\n",
       " 'quality': 702,\n",
       " 'face': 291,\n",
       " 'would like': 983,\n",
       " 'high quality': 417,\n",
       " 'awesome': 72,\n",
       " 'make': 523,\n",
       " 'cool': 184,\n",
       " 'release': 727,\n",
       " 'whole': 965,\n",
       " 'set': 777,\n",
       " 'webseries': 958,\n",
       " 'pilot': 638,\n",
       " 'crime': 199,\n",
       " 'professional': 688,\n",
       " 'producer': 683,\n",
       " 'web': 956,\n",
       " 'video': 934,\n",
       " 'together': 893,\n",
       " 'help make': 409,\n",
       " 'documentary': 234,\n",
       " 'magazine': 520,\n",
       " 'issue': 455,\n",
       " 'party': 616,\n",
       " 'places': 640,\n",
       " 'new': 580,\n",
       " 'york': 994,\n",
       " 'times': 891,\n",
       " 'wall': 945,\n",
       " 'street': 846,\n",
       " 'journal': 463,\n",
       " 'games': 362,\n",
       " 'new york': 586,\n",
       " 'run': 749,\n",
       " 'show': 788,\n",
       " 'day': 209,\n",
       " 'pop': 657,\n",
       " 'gallery': 360,\n",
       " 'become': 83,\n",
       " 'movie': 556,\n",
       " 'film': 319,\n",
       " 'students': 849,\n",
       " 'created': 194,\n",
       " 'campaign': 125,\n",
       " 'called': 123,\n",
       " 'us': 925,\n",
       " 'raise': 706,\n",
       " 'funds': 357,\n",
       " 'short': 785,\n",
       " 'help us': 410,\n",
       " 'raise funds': 707,\n",
       " 'short film': 786,\n",
       " 'send': 774,\n",
       " 'every': 275,\n",
       " 'one': 597,\n",
       " 'year': 990,\n",
       " 'starting': 834,\n",
       " '1st': 7,\n",
       " 'north': 591,\n",
       " 'three': 888,\n",
       " 'texas': 879,\n",
       " 'life': 495,\n",
       " 'summer': 856,\n",
       " 'take': 866,\n",
       " 'trip': 907,\n",
       " 'hi': 415,\n",
       " 'city': 153,\n",
       " 'share': 779,\n",
       " 'explores': 288,\n",
       " 'without': 971,\n",
       " 'education': 254,\n",
       " 'kids': 469,\n",
       " 'parents': 613,\n",
       " 'launch': 482,\n",
       " 'money': 547,\n",
       " 'go': 377,\n",
       " 'equipment': 268,\n",
       " 'needs help': 577,\n",
       " 'recording': 722,\n",
       " 'people': 622,\n",
       " 'design': 221,\n",
       " 'podcast': 653,\n",
       " 'great': 386,\n",
       " 'black': 94,\n",
       " 'limited': 499,\n",
       " 'edition': 253,\n",
       " 'lp': 516,\n",
       " 'favorite': 305,\n",
       " 'time': 890,\n",
       " 'little': 502,\n",
       " 'label': 476,\n",
       " 'fall': 293,\n",
       " 'limited edition': 500,\n",
       " 'internet': 450,\n",
       " 'featuring': 310,\n",
       " 'sound': 816,\n",
       " 'complete': 176,\n",
       " 'feature': 306,\n",
       " 'length': 489,\n",
       " 'future': 359,\n",
       " 'music': 561,\n",
       " 'industry': 441,\n",
       " 'feature length': 308,\n",
       " 'album': 30,\n",
       " 'trying': 913,\n",
       " 'print': 674,\n",
       " 'new album': 581,\n",
       " 'open': 599,\n",
       " 'source': 818,\n",
       " 'open source': 600,\n",
       " 'photos': 632,\n",
       " 'friends': 350,\n",
       " 'finally': 322,\n",
       " 'using': 930,\n",
       " 'social': 804,\n",
       " 'media': 532,\n",
       " 'yet': 993,\n",
       " '2d': 14,\n",
       " 'side': 791,\n",
       " 'hand': 395,\n",
       " 'action': 22,\n",
       " 'live': 503,\n",
       " 'pc': 620,\n",
       " 'way': 954,\n",
       " 'children': 148,\n",
       " 'learn': 483,\n",
       " 'makes': 525,\n",
       " 'well': 962,\n",
       " 'could': 187,\n",
       " 'change': 141,\n",
       " 'save': 753,\n",
       " 'need': 573,\n",
       " '10': 1,\n",
       " '000': 0,\n",
       " 'zombie': 998,\n",
       " 'zombies': 999,\n",
       " 'going': 381,\n",
       " 'mind': 540,\n",
       " 'development': 225,\n",
       " 'festival': 313,\n",
       " 'two': 917,\n",
       " 'shows': 790,\n",
       " 'running': 750,\n",
       " 'van': 931,\n",
       " 'band': 77,\n",
       " 'stay': 837,\n",
       " 'road': 740,\n",
       " 'hard': 400,\n",
       " 'guys': 394,\n",
       " 'truck': 908,\n",
       " 'tour': 899,\n",
       " 'recorded': 721,\n",
       " 'record': 719,\n",
       " 'get': 366,\n",
       " 'new record': 585,\n",
       " 'death': 213,\n",
       " 'famous': 296,\n",
       " 'produce': 681,\n",
       " 'production': 686,\n",
       " 'costs': 186,\n",
       " 'feature film': 307,\n",
       " 'big': 91,\n",
       " 'paintings': 611,\n",
       " 'see': 769,\n",
       " 'online': 598,\n",
       " 'creativity': 198,\n",
       " 'led': 486,\n",
       " 'light': 497,\n",
       " 'low': 515,\n",
       " 'cost': 185,\n",
       " 'product': 685,\n",
       " 'finish': 327,\n",
       " 'world': 980,\n",
       " 'working': 978,\n",
       " 'true': 909,\n",
       " 'story': 844,\n",
       " 'rock': 742,\n",
       " 'cd': 135,\n",
       " 'early': 247,\n",
       " 'looking': 510,\n",
       " 'fans': 298,\n",
       " 'join': 461,\n",
       " 'team': 875,\n",
       " 'ep': 265,\n",
       " 'name': 567,\n",
       " 'songs': 812,\n",
       " 'long': 508,\n",
       " 'new ep': 583,\n",
       " 'debut': 214,\n",
       " 'stuff': 853,\n",
       " 'debut album': 215,\n",
       " 'need help': 574,\n",
       " 'culture': 202,\n",
       " 'writers': 986,\n",
       " 'fund': 355,\n",
       " 'third': 887,\n",
       " 'themed': 883,\n",
       " 'affordable': 26,\n",
       " 'prints': 678,\n",
       " 'paper': 612,\n",
       " 'sell': 773,\n",
       " 'peace': 621,\n",
       " 'bring': 107,\n",
       " 'youth': 996,\n",
       " 'park': 614,\n",
       " 'meet': 533,\n",
       " 'quest': 703,\n",
       " 'last': 480,\n",
       " 'mission': 542,\n",
       " 'childrens': 149,\n",
       " 'ready': 714,\n",
       " 'master': 530,\n",
       " 'around': 57,\n",
       " 'tv': 915,\n",
       " 'worlds': 981,\n",
       " 'real': 715,\n",
       " 'idea': 431,\n",
       " 'detroit': 224,\n",
       " 'call': 122,\n",
       " '12': 4,\n",
       " 'small': 801,\n",
       " 'based': 79,\n",
       " 'releasing': 729,\n",
       " 'electronic': 256,\n",
       " 'river': 739,\n",
       " 'give': 373,\n",
       " 'multi': 558,\n",
       " 'filled': 318,\n",
       " 'promote': 692,\n",
       " 'gaming': 363,\n",
       " 'platform': 643,\n",
       " 'issues': 456,\n",
       " 'also': 35,\n",
       " 'funny': 358,\n",
       " 'next': 588,\n",
       " 'five': 334,\n",
       " 'pre': 668,\n",
       " 'order': 604,\n",
       " 'pre order': 669,\n",
       " 'cat': 134,\n",
       " 'video game': 935,\n",
       " 'portraits': 660,\n",
       " 'stories': 843,\n",
       " 'community': 174,\n",
       " 'solo': 808,\n",
       " 'studio': 850,\n",
       " 'started': 833,\n",
       " 'buy': 118,\n",
       " 'better': 88,\n",
       " 'fight': 316,\n",
       " 'state': 835,\n",
       " 'self': 772,\n",
       " 'public': 694,\n",
       " 'national': 569,\n",
       " 'place': 639,\n",
       " 'let': 492,\n",
       " 'follow': 336,\n",
       " 'along': 34,\n",
       " 'explore': 287,\n",
       " '3d': 17,\n",
       " 'shot': 787,\n",
       " 'start': 832,\n",
       " 'songwriter': 813,\n",
       " 'think': 886,\n",
       " 'really': 717,\n",
       " 'designed': 222,\n",
       " 'lets': 493,\n",
       " 'ever': 274,\n",
       " 'got': 383,\n",
       " 'plan': 641,\n",
       " 'around world': 58,\n",
       " 'help get': 408,\n",
       " 'dream': 242,\n",
       " 'goes': 380,\n",
       " 'punk': 699,\n",
       " 'pay': 619,\n",
       " 'service': 776,\n",
       " 'voice': 942,\n",
       " 'mural': 559,\n",
       " 'creation': 196,\n",
       " 'school': 757,\n",
       " 'old': 596,\n",
       " 'unique': 920,\n",
       " 'look': 509,\n",
       " 'history': 421,\n",
       " 'dog': 236,\n",
       " 'raising': 709,\n",
       " 'publish': 696,\n",
       " 'families': 294,\n",
       " 'positive': 661,\n",
       " 'animal': 43,\n",
       " 'raising funds': 710,\n",
       " 'lovers': 514,\n",
       " 'come': 168,\n",
       " 'hope': 425,\n",
       " 'market': 529,\n",
       " 'know': 474,\n",
       " 'custom': 204,\n",
       " 'read': 713,\n",
       " 'use': 928,\n",
       " 'bar': 78,\n",
       " 'comic': 171,\n",
       " 'roll': 745,\n",
       " 'four': 344,\n",
       " 'stand': 829,\n",
       " 'best': 87,\n",
       " 'young': 995,\n",
       " 'back': 74,\n",
       " 'dreams': 243,\n",
       " 'health': 402,\n",
       " 'visual': 941,\n",
       " 'videos': 936,\n",
       " 'available': 67,\n",
       " 'keep': 465,\n",
       " 'funding': 356,\n",
       " 'right': 737,\n",
       " 'chicago': 146,\n",
       " 'upcoming': 923,\n",
       " 'rewards': 735,\n",
       " 'non': 590,\n",
       " 'words': 976,\n",
       " 'films': 320,\n",
       " 'center': 137,\n",
       " 'fashion': 302,\n",
       " 'week': 960,\n",
       " 'craft': 190,\n",
       " 'musicians': 564,\n",
       " 'land': 477,\n",
       " 'folk': 335,\n",
       " 'singer': 794,\n",
       " 'press': 673,\n",
       " 'theatre': 882,\n",
       " 'fire': 329,\n",
       " 'fighting': 317,\n",
       " 'scene': 756,\n",
       " 'follows': 338,\n",
       " 'lives': 504,\n",
       " 'players': 646,\n",
       " 'east': 249,\n",
       " 'west': 963,\n",
       " 'fully': 353,\n",
       " 'concept': 178,\n",
       " 'post': 663,\n",
       " 'full': 351,\n",
       " 'original': 606,\n",
       " 'recording first': 723,\n",
       " 'first full': 333,\n",
       " 'full length': 352,\n",
       " 'fiction': 315,\n",
       " 'hands': 397,\n",
       " 'london': 507,\n",
       " '2nd': 15,\n",
       " 'coming': 173,\n",
       " 'playing': 647,\n",
       " 'guitar': 393,\n",
       " 'new cd': 582,\n",
       " 'adventures': 25,\n",
       " 'power': 665,\n",
       " 'build': 112,\n",
       " 'room': 747,\n",
       " 'play': 644,\n",
       " 'student': 848,\n",
       " 'wear': 955,\n",
       " 'made': 519,\n",
       " 'creative': 197,\n",
       " 'behind': 85,\n",
       " 'american': 40,\n",
       " 'reality': 716,\n",
       " 'truth': 911,\n",
       " 'america': 39,\n",
       " 'greatest': 387,\n",
       " 'cross': 200,\n",
       " 'believe': 86,\n",
       " 'late': 481,\n",
       " 'never': 579,\n",
       " 'super': 857,\n",
       " 'comedy': 169,\n",
       " 'co': 160,\n",
       " 'tell': 877,\n",
       " 'science': 760,\n",
       " 'modern': 546,\n",
       " 'university': 922,\n",
       " 'energy': 259,\n",
       " 'animals': 44,\n",
       " 'planet': 642,\n",
       " 'home': 423,\n",
       " 'reach': 712,\n",
       " 'goal': 378,\n",
       " 'men': 535,\n",
       " 'want make': 948,\n",
       " 'travel': 904,\n",
       " 'raise money': 708,\n",
       " 'ultimate': 919,\n",
       " 'sweet': 862,\n",
       " 'another': 48,\n",
       " 'episode': 267,\n",
       " 'records': 724,\n",
       " 'college': 164,\n",
       " 'web series': 957,\n",
       " 'animated': 45,\n",
       " 'watch': 952,\n",
       " 'season': 766,\n",
       " 'god': 379,\n",
       " 'please': 649,\n",
       " 'innovative': 442,\n",
       " 'player': 645,\n",
       " 'used': 929,\n",
       " 'connect': 180,\n",
       " 'exhibition': 282,\n",
       " 'group': 389,\n",
       " 'performance': 625,\n",
       " '11': 3,\n",
       " 'happen': 398,\n",
       " 'please help': 650,\n",
       " 'make happen': 524,\n",
       " 'battle': 80,\n",
       " 'cafe': 119,\n",
       " 'experience': 284,\n",
       " 'find': 323,\n",
       " 'track': 901,\n",
       " 'far': 300,\n",
       " 'ages': 28,\n",
       " 'beautiful': 81,\n",
       " 'poster': 664,\n",
       " 'size': 799,\n",
       " 'artwork': 64,\n",
       " 'printing': 677,\n",
       " 'different': 230,\n",
       " 'kind': 470,\n",
       " 'song': 811,\n",
       " 'collection': 163,\n",
       " 'special': 822,\n",
       " 'hear': 404,\n",
       " 'space': 821,\n",
       " 'large': 479,\n",
       " 'scale': 755,\n",
       " 'society': 805,\n",
       " 'los': 511,\n",
       " 'red': 725,\n",
       " 'poetry': 655,\n",
       " 'tracks': 902,\n",
       " 'mix': 543,\n",
       " 'vinyl': 938,\n",
       " 'radio': 705,\n",
       " 'teach': 874,\n",
       " 'must': 565,\n",
       " 'global': 376,\n",
       " 'following': 337,\n",
       " 'camera': 124,\n",
       " 'good': 382,\n",
       " 'secret': 768,\n",
       " 'giving': 374,\n",
       " 'return': 733,\n",
       " 'mystery': 566,\n",
       " 'musical': 563,\n",
       " 'twist': 916,\n",
       " 'animation': 46,\n",
       " 'edge': 252,\n",
       " 'entertainment': 263,\n",
       " 'language': 478,\n",
       " 'illustrated': 434,\n",
       " 'brings': 109,\n",
       " 'art book': 60,\n",
       " 'building': 113,\n",
       " 'style': 854,\n",
       " 'six': 798,\n",
       " 'printed': 675,\n",
       " 'vs': 944,\n",
       " 'kickstarter': 467,\n",
       " 'exploration': 286,\n",
       " 'graphic': 384,\n",
       " 'company': 175,\n",
       " 'ii': 433,\n",
       " 'exploring': 289,\n",
       " 'classic': 155,\n",
       " 'green': 388,\n",
       " 'concert': 179,\n",
       " 'books': 101,\n",
       " 'arts': 63,\n",
       " 'system': 863,\n",
       " 'wild': 966,\n",
       " 'much': 557,\n",
       " 'needed': 575,\n",
       " 'first album': 331,\n",
       " 'puzzle': 701,\n",
       " 'computer': 177,\n",
       " 'rock band': 743,\n",
       " 'amazing': 38,\n",
       " 'opportunity': 602,\n",
       " 'website': 959,\n",
       " 'christmas': 152,\n",
       " 'card': 129,\n",
       " 'cards': 131,\n",
       " 'kit': 472,\n",
       " 'age': 27,\n",
       " 'revolution': 734,\n",
       " 'mini': 541,\n",
       " 'screen': 762,\n",
       " 'piece': 636,\n",
       " 'water': 953,\n",
       " 'la': 475,\n",
       " 'word': 975,\n",
       " 'images': 436,\n",
       " 'south': 819,\n",
       " 'local': 506,\n",
       " 'comes': 170,\n",
       " 'etc': 270,\n",
       " 'award': 68,\n",
       " 'winning': 968,\n",
       " 'award winning': 69,\n",
       " 'projects': 691,\n",
       " 'turn': 914,\n",
       " 'women': 973,\n",
       " 'characters': 144,\n",
       " 'brothers': 111,\n",
       " 'classical': 156,\n",
       " 'woman': 972,\n",
       " 'family': 295,\n",
       " 'talk': 872,\n",
       " 'night': 589,\n",
       " 'help fund': 407,\n",
       " 'magic': 521,\n",
       " 'retro': 732,\n",
       " 'point': 656,\n",
       " 'hot': 427,\n",
       " 'single': 796,\n",
       " 'music video': 562,\n",
       " 'san': 752,\n",
       " 'nothing': 592,\n",
       " 'length album': 490,\n",
       " 'seeking': 770,\n",
       " 'ghost': 369,\n",
       " 'coast': 161,\n",
       " 'found': 343,\n",
       " 'chance': 140,\n",
       " 'crazy': 192,\n",
       " 'horror': 426,\n",
       " 'program': 689,\n",
       " 'new music': 584,\n",
       " 'fan': 297,\n",
       " 'oil': 595,\n",
       " 'bringing': 108,\n",
       " 'store': 842,\n",
       " 'james': 457,\n",
       " 'expand': 283,\n",
       " 'states': 836,\n",
       " 'move': 554,\n",
       " 'designs': 223,\n",
       " '50': 19,\n",
       " 'shoot': 783,\n",
       " '100': 2,\n",
       " 'pieces': 637,\n",
       " 'final': 321,\n",
       " 'creating': 195,\n",
       " 'site': 797,\n",
       " 'written': 988,\n",
       " 'record first': 720,\n",
       " 'tales': 871,\n",
       " 'provide': 693,\n",
       " 'version': 932,\n",
       " 'machine': 518,\n",
       " 'away': 71,\n",
       " 'seen': 771,\n",
       " 'interactive': 448,\n",
       " 'first ep': 332,\n",
       " 'comics': 172,\n",
       " 'graphic novel': 385,\n",
       " 'heart': 405,\n",
       " 'stars': 831,\n",
       " 'paint': 609,\n",
       " 'mixed': 544,\n",
       " 'installation': 447,\n",
       " 'recipes': 718,\n",
       " 'winter': 969,\n",
       " 'publishing': 698,\n",
       " 'cover': 189,\n",
       " 'dead': 212,\n",
       " 'evil': 279,\n",
       " 'drama': 241,\n",
       " 'card game': 130,\n",
       " 'anthology': 49,\n",
       " '15': 6,\n",
       " 'spirit': 823,\n",
       " 'thriller': 889,\n",
       " 'events': 273,\n",
       " 'mac': 517,\n",
       " 'thing': 884,\n",
       " 'blue': 96,\n",
       " 'gets': 367,\n",
       " 'sustainable': 861,\n",
       " 'educational': 255,\n",
       " 'discover': 232,\n",
       " 'finding': 324,\n",
       " 'cultural': 201,\n",
       " 'news': 587,\n",
       " 'inside': 443,\n",
       " 'exciting': 280,\n",
       " 'survival': 859,\n",
       " 'guide': 392,\n",
       " 'simple': 792,\n",
       " 'easy': 250,\n",
       " 'popular': 658,\n",
       " 'almost': 33,\n",
       " 'today': 892,\n",
       " 'illustrations': 435,\n",
       " 'thank': 880,\n",
       " 'top': 897,\n",
       " 'elements': 257,\n",
       " 'coffee': 162,\n",
       " 'table': 864,\n",
       " 'photo': 630,\n",
       " 'inspiring': 446,\n",
       " 'deep': 219,\n",
       " 'human': 429,\n",
       " 'person': 626,\n",
       " 'david': 208,\n",
       " 'within': 970,\n",
       " 'cancer': 126,\n",
       " 'food': 339,\n",
       " 'country': 188,\n",
       " 'handmade': 396,\n",
       " 'changing': 142,\n",
       " 'stop': 841,\n",
       " 'dogs': 237,\n",
       " 'documentary film': 235,\n",
       " 'jazz': 458,\n",
       " 'sounds': 817,\n",
       " 'bike': 92,\n",
       " 'solar': 807,\n",
       " 'powered': 666,\n",
       " 'research': 730,\n",
       " 'across': 21,\n",
       " 'process': 680,\n",
       " 'debut ep': 216,\n",
       " 'true story': 910,\n",
       " 'king': 471,\n",
       " 'role': 744,\n",
       " 'body': 99,\n",
       " 'growing': 391,\n",
       " 'father': 304,\n",
       " 'mother': 552,\n",
       " 'hop': 424,\n",
       " 'able': 20,\n",
       " 'mobile': 545,\n",
       " 'android': 42,\n",
       " 'career': 132,\n",
       " 'since': 793,\n",
       " 'things': 885,\n",
       " 'theater': 881,\n",
       " 'girls': 372,\n",
       " 'vision': 940,\n",
       " 'christian': 151,\n",
       " 'rpg': 748,\n",
       " 'ancient': 41,\n",
       " 'stage': 828,\n",
       " 'meets': 534,\n",
       " 'perfect': 623,\n",
       " 'dance': 206,\n",
       " 'powerful': 667,\n",
       " 'bacon': 75,\n",
       " 'wood': 974,\n",
       " 'products': 687,\n",
       " 'international': 449,\n",
       " 'others': 607,\n",
       " 'singer songwriter': 795,\n",
       " 'boy': 103,\n",
       " 'sci': 758,\n",
       " 'fi': 314,\n",
       " 'even': 271,\n",
       " 'sci fi': 759,\n",
       " 'takes': 867,\n",
       " 'beyond': 89,\n",
       " 'perform': 624,\n",
       " 'rise': 738,\n",
       " 'skills': 800,\n",
       " 'shirt': 781,\n",
       " 'end': 258,\n",
       " 'movement': 555,\n",
       " 'picture': 634,\n",
       " 'club': 159,\n",
       " 'diy': 233,\n",
       " 'house': 428,\n",
       " 'raising money': 711,\n",
       " 'publication': 695,\n",
       " 'lost': 512,\n",
       " 'via': 933,\n",
       " 'grow': 390,\n",
       " 'everyone': 277,\n",
       " 'event': 272,\n",
       " 'youtube': 997,\n",
       " 'anyone': 50,\n",
       " 'relationship': 726,\n",
       " 'century': 138,\n",
       " '30': 16,\n",
       " 'always': 37,\n",
       " 'calendar': 120,\n",
       " 'hip': 419,\n",
       " 'producing': 684,\n",
       " 'hip hop': 420,\n",
       " 'pro': 679,\n",
       " 'friend': 348,\n",
       " 'contemporary': 181,\n",
       " 'epic': 266,\n",
       " 'steampunk': 838,\n",
       " 'science fiction': 761,\n",
       " 'presents': 672,\n",
       " 'dvd': 246,\n",
       " 'page': 608,\n",
       " 'white': 964,\n",
       " 'alternative': 36,\n",
       " 'inspire': 444,\n",
       " 'passion': 617,\n",
       " 'many': 528,\n",
       " 'present': 671,\n",
       " 'faith': 292,\n",
       " 'photography': 631,\n",
       " 'near': 572,\n",
       " 'double': 239,\n",
       " 'author': 66,\n",
       " 'message': 536,\n",
       " 'gift': 370,\n",
       " 'done': 238,\n",
       " 'john': 460,\n",
       " 'premiere': 670,\n",
       " 'fast': 303,\n",
       " 'getting': 368,\n",
       " 'town': 900,\n",
       " 'son': 810,\n",
       " 'built': 114,\n",
       " 'earth': 248,\n",
       " 'business': 117,\n",
       " 'plus': 651,\n",
       " 'ice': 430,\n",
       " 'anywhere': 52,\n",
       " 'dark': 207,\n",
       " 'pocket': 652,\n",
       " 'shirts': 782,\n",
       " 'fantasy': 299,\n",
       " 'usa': 926,\n",
       " 'join us': 462,\n",
       " 'level': 494,\n",
       " 'experiences': 285,\n",
       " 'de': 211,\n",
       " 'alive': 31,\n",
       " 'piano': 633,\n",
       " 'girl': 371,\n",
       " 'baby': 73,\n",
       " 'traditional': 903,\n",
       " 'search': 765,\n",
       " 'heroes': 414,\n",
       " 'box': 102,\n",
       " 'possible': 662,\n",
       " 'monsters': 549,\n",
       " 'phone': 629,\n",
       " 'studios': 852,\n",
       " 'natural': 570,\n",
       " 'poems': 654,\n",
       " 'days': 210,\n",
       " 'spread': 825,\n",
       " 'friendly': 349,\n",
       " 'learning': 484,\n",
       " 'freedom': 346,\n",
       " 'moon': 551,\n",
       " 'tells': 878,\n",
       " 'less': 491,\n",
       " 'metal': 537,\n",
       " 'kitchen': 473,\n",
       " 'writer': 985,\n",
       " 'welcome': 961,\n",
       " 'driven': 245,\n",
       " 'area': 56,\n",
       " 'sharing': 780,\n",
       " 'produced': 682,\n",
       " 'everything': 278,\n",
       " 'including': 438,\n",
       " '3rd': 18,\n",
       " 'air': 29,\n",
       " 'tool': 895,\n",
       " 'allows': 32,\n",
       " 'middle': 539,\n",
       " 'star': 830,\n",
       " 'tale': 869,\n",
       " 'survive': 860,\n",
       " 'awareness': 70,\n",
       " 'legend': 488,\n",
       " 'bad': 76,\n",
       " 'ride': 736,\n",
       " 'told': 894,\n",
       " 'farm': 301,\n",
       " 'technology': 876,\n",
       " 'spring': 826,\n",
       " 'audio': 65,\n",
       " 'tea': 873,\n",
       " 'capture': 127,\n",
       " 'celebrating': 136,\n",
       " 'features': 309,\n",
       " 'soon': 814,\n",
       " 'showcase': 789,\n",
       " 'safe': 751,\n",
       " 'sex': 778,\n",
       " 'organic': 605,\n",
       " 'finds': 325,\n",
       " 'urban': 924,\n",
       " 'published': 697,\n",
       " 'race': 704,\n",
       " 'annual': 47,\n",
       " 'cooking': 183,\n",
       " 'head': 401,\n",
       " 'wanted': 949,\n",
       " 'try': 912,\n",
       " 'garden': 364,\n",
       " 'control': 182,\n",
       " 'studio album': 851,\n",
       " 'monster': 548,\n",
       " 'challenge': 139,\n",
       " 'class': 154,\n",
       " 'tools': 896,\n",
       " 'ideas': 432,\n",
       " 'talent': 870,\n",
       " 'english': 260,\n",
       " 'murder': 560,\n",
       " 'fresh': 347,\n",
       " 'generation': 365,\n",
       " 'devices': 227,\n",
       " 'ipad': 452,\n",
       " 'bicycle': 90,\n",
       " 'exhibit': 281,\n",
       " 'nature': 571,\n",
       " 'magical': 522,\n",
       " 'tree': 906,\n",
       " 'happy': 399,\n",
       " 'dedicated': 218,\n",
       " 'year old': 991,\n",
       " 'burning': 115,\n",
       " 'helping': 411,\n",
       " 'break': 106,\n",
       " 'female': 312,\n",
       " 'war': 951,\n",
       " 'virtual': 939,\n",
       " 'still': 840,\n",
       " 'eat': 251,\n",
       " 'child': 147,\n",
       " 'high school': 418,\n",
       " 'crafted': 191,\n",
       " 'beer': 84,\n",
       " 'nashville': 568,\n",
       " 'struggle': 847,\n",
       " 'southern': 820,\n",
       " 'everyday': 276,\n",
       " 'printer': 676,\n",
       " 'restaurant': 731,\n",
       " 'island': 454,\n",
       " 'step': 839,\n",
       " 'imagination': 437,\n",
       " 'success': 855,\n",
       " 'california': 121,\n",
       " 'delicious': 220,\n",
       " 'opera': 601,\n",
       " 'soul': 815,\n",
       " 'beauty': 82,\n",
       " 'die': 229,\n",
       " 'motion': 553,\n",
       " 'device': 226,\n",
       " 'enjoy': 261,\n",
       " 'glass': 375,\n",
       " 'jewelry': 459,\n",
       " 'helps': 412,\n",
       " 'strategy': 845,\n",
       " 'sports': 824,\n",
       " 'romance': 746,\n",
       " 'blues': 97,\n",
       " 'healthy': 403,\n",
       " 'blood': 95,\n",
       " 'orchestra': 603,\n",
       " 'sea': 764,\n",
       " 'eyes': 290,\n",
       " 'left': 487,\n",
       " 'pet': 628,\n",
       " 'enough': 262,\n",
       " 'escape': 269,\n",
       " 'hit': 422,\n",
       " 'wine': 967,\n",
       " 'tabletop': 865,\n",
       " 'key': 466,\n",
       " 'smart': 802,\n",
       " 'feel': 311,\n",
       " 'kid': 468,\n",
       " 'burning man': 116,\n",
       " 'case': 133,\n",
       " 'add': 23,\n",
       " 'combat': 167,\n",
       " 'lifestyle': 496,\n",
       " 'anything': 51,\n",
       " 'wallet': 946,\n",
       " 'network': 578,\n",
       " 'universe': 921,\n",
       " 'environment': 264,\n",
       " 'touch': 898,\n",
       " 'fine': 326,\n",
       " 'brand': 104,\n",
       " 'brand new': 105,\n",
       " 'forever': 341,\n",
       " 'smartphone': 803,\n",
       " 'clothing': 158,\n",
       " 'dragon': 240,\n",
       " 'dice': 228,\n",
       " 'say': 754,\n",
       " 'volume': 943,\n",
       " 'deck': 217,\n",
       " '2011': 9,\n",
       " 'portable': 659,\n",
       " 'clean': 157,\n",
       " 'arduino': 55,\n",
       " 'uk': 918,\n",
       " 'leather': 485,\n",
       " 'playing cards': 648,\n",
       " 'ios': 451,\n",
       " '2012': 10,\n",
       " 'usb': 927,\n",
       " '2014': 12,\n",
       " '2015': 13,\n",
       " 'food truck': 340,\n",
       " '2013': 11,\n",
       " 'apparel': 54}"
      ]
     },
     "execution_count": 174,
     "metadata": {},
     "output_type": "execute_result"
    }
   ],
   "source": [
    "tfidf.vocabulary_"
   ]
  },
  {
   "cell_type": "markdown",
   "metadata": {},
   "source": [
    "We have chosen 1,000 best features (1 or 2 words) to represent the training corpus. Those words are shown in the output of the above cell with their respective frequencies "
   ]
  },
  {
   "cell_type": "markdown",
   "metadata": {},
   "source": [
    "#### Conclusion\n",
    "In this notebook, we have explored the dataset and transformed some string features to numeric representations. In the next notebook we will consider feature engineering the columns and make them ML-ready"
   ]
  }
 ],
 "metadata": {
  "kernelspec": {
   "display_name": "Python 3",
   "language": "python",
   "name": "python3"
  },
  "language_info": {
   "codemirror_mode": {
    "name": "ipython",
    "version": 3
   },
   "file_extension": ".py",
   "mimetype": "text/x-python",
   "name": "python",
   "nbconvert_exporter": "python",
   "pygments_lexer": "ipython3",
   "version": "3.7.7"
  }
 },
 "nbformat": 4,
 "nbformat_minor": 4
}
